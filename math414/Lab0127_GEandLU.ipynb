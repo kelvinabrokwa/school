{
 "cells": [
  {
   "cell_type": "markdown",
   "metadata": {},
   "source": [
    "#Guassian Elimination and LU Decomposition"
   ]
  },
  {
   "cell_type": "markdown",
   "metadata": {},
   "source": [
    "We consider no pivoting and no swapping case.  We need to solve the system of linear equations $$Ax = b,$$ where the dimension of $A$ is $n\\times n$.  In general, the GE can be described as\n",
    "* Do i = 1, ..., n\n",
    "  * Do j = i+1, ..., n\n",
    "    * $m_{ji} = \\frac{a_{ji}}{a_{ii}}$\n",
    "    * $R_j = -m_{ji}R_i + R_j$\n",
    "* (Above completes the GE process. Below performs backward subsitution to obtain $x$.)\n",
    "* $x_n = \\frac{a_{n,n+1}}{a_{n,n}}$\n",
    "* Do i = n-1, ..., 1\n",
    "  * $x_i = [a_{i, n+1} - \\sum_{j=i+1}^{n} a_{i,j} x_j] \\big/ a_{i,i}$"
   ]
  },
  {
   "cell_type": "code",
   "execution_count": 1,
   "metadata": {
    "collapsed": false
   },
   "outputs": [
    {
     "data": {
      "text/plain": [
       "GE (generic function with 1 method)"
      ]
     },
     "execution_count": 1,
     "metadata": {},
     "output_type": "execute_result"
    }
   ],
   "source": [
    "function GE(A)\n",
    "    #Given an augmented matrix A_{n, n+1}\n",
    "    #Output the solution x to Ax = b.\n",
    "    n, n1 = size(A)\n",
    "    for i = 1:n\n",
    "        for j = i + 1:n\n",
    "            m = A[j,i]/A[i,i]\n",
    "            A[j,:] = -m*A[i,:] + A[j,:]\n",
    "        end\n",
    "    end\n",
    "    x = BackSub(A)\n",
    "    return x\n",
    "end"
   ]
  },
  {
   "cell_type": "code",
   "execution_count": 11,
   "metadata": {
    "collapsed": false
   },
   "outputs": [
    {
     "data": {
      "text/plain": [
       "BackSub (generic function with 1 method)"
      ]
     },
     "execution_count": 11,
     "metadata": {},
     "output_type": "execute_result"
    }
   ],
   "source": [
    "function BackSub(U)  \n",
    "    n, n1 = size(U)\n",
    "    x = zeros(n, 1)\n",
    "    x[n] = U[n,n+1]/U[n,n]\n",
    "    for i = n-1:-1:1\n",
    "        temp = 0 # to calculate the summation\n",
    "        for j = i+1:n\n",
    "            temp = temp + U[i,j] * x[j]\n",
    "        end\n",
    "        x[i] = (U[i,n+1] - temp) / U[i,i]\n",
    "    end\n",
    "    return x\n",
    "end\n"
   ]
  },
  {
   "cell_type": "markdown",
   "metadata": {},
   "source": [
    "To test our code, we consider the example in the textbook on page 358.\n",
    "$$\n",
    "\\begin{cases}\n",
    " &x_1 + x_2 + 3x_4 &= 4,\\\\\n",
    " &2x_1 + x_2 - x_3 + x_4 &= 1,\\\\\n",
    " &3x_1 - x_2 - x_3 + 2x_4 &= -3,\\\\\n",
    " &-x_1 + 2x_2 + 3x_3 - x_4 &=4\n",
    "\\end{cases}\n",
    ",\n",
    "$$\n",
    "where the exact solution is $x = (-1, 2, 0, 1)$.\n",
    "\n",
    "The augmented matrix is\n",
    "$$\n",
    "\\begin{pmatrix}\n",
    " 1 & 1 & 0 & 3 & 4 \\\\\n",
    " 2 & 1 & -1& 1 & 1 \\\\\n",
    " 3 & -1& -1& 2 & -3\\\\\n",
    " -1& 2 & 3 & -1& 4\n",
    "\\end{pmatrix}.\n",
    "$$"
   ]
  },
  {
   "cell_type": "code",
   "execution_count": 3,
   "metadata": {
    "collapsed": false
   },
   "outputs": [
    {
     "data": {
      "text/plain": [
       "4x5 Array{Int64,2}:\n",
       "  1   1   0   3   4\n",
       "  2   1  -1   1   1\n",
       "  3  -1  -1   2  -3\n",
       " -1   2   3  -1   4"
      ]
     },
     "execution_count": 3,
     "metadata": {},
     "output_type": "execute_result"
    }
   ],
   "source": [
    "A = [ \n",
    "    1 1 0 3 4;\n",
    "    2 1 -1 1 1;\n",
    "    3 -1 -1 2 -3;\n",
    "    -1 2 3 -1 4\n",
    "]"
   ]
  },
  {
   "cell_type": "code",
   "execution_count": 4,
   "metadata": {
    "collapsed": false
   },
   "outputs": [
    {
     "data": {
      "text/plain": [
       "4x1 Array{Float64,2}:\n",
       " -1.0\n",
       "  2.0\n",
       "  0.0\n",
       "  1.0"
      ]
     },
     "execution_count": 4,
     "metadata": {},
     "output_type": "execute_result"
    }
   ],
   "source": [
    "GE(A)"
   ]
  },
  {
   "cell_type": "markdown",
   "metadata": {},
   "source": [
    "##LU Decomposition\n",
    "A = LU, where $L_{j,i} = m_{j,i}$ and $U$ is the matrix after GE."
   ]
  },
  {
   "cell_type": "markdown",
   "metadata": {},
   "source": [
    "###In Class Exercise.\n",
    "Implement LU decomposition by modifying the Gaussian Elimination function ```GE```.  Run your code on the matrix $$\n",
    "B =\\begin{pmatrix}\n",
    " 1 & 1 & 0 & 3  \\\\\n",
    " 2 & 1 & -1& 1  \\\\\n",
    " 3 & -1& -1& 2 \\\\\n",
    " -1& 2 & 3 & -1\n",
    "\\end{pmatrix},\n",
    "$$\n",
    "where the exact $L$ and $U$ are\n",
    "$$\n",
    "L = \\begin{pmatrix}\n",
    " 1 & 0 & 0 & 0  \\\\\n",
    " 2 & 1 & 0 & 0  \\\\\n",
    " 3 & 4& 1& 0 \\\\\n",
    " -1& -3 & 0 & 1\n",
    "\\end{pmatrix},\\quad\n",
    "U=\n",
    "\\begin{pmatrix}\n",
    " 1 & 1 & 0 & 3  \\\\\n",
    " 0 & -1 & -1& -5  \\\\\n",
    " 0 & 0& 3& 13 \\\\\n",
    " 0 & 0 & 0 & -13\n",
    "\\end{pmatrix}.\n",
    "$$"
   ]
  },
  {
   "cell_type": "code",
   "execution_count": 5,
   "metadata": {
    "collapsed": false
   },
   "outputs": [
    {
     "data": {
      "text/plain": [
       "LUdecomp (generic function with 1 method)"
      ]
     },
     "execution_count": 5,
     "metadata": {},
     "output_type": "execute_result"
    }
   ],
   "source": [
    "function LUdecomp(A)\n",
    "    n, n1 = size(A)\n",
    "    L = eye(n)\n",
    "    U = zeros(n,n1)\n",
    "    for i = 1:n\n",
    "        for j = i + 1:n\n",
    "            m = A[j,i] / A[i,i]\n",
    "            L[j,i] = m\n",
    "            A[j,:] = -m*A[i,:] + A[j,:]\n",
    "\n",
    "        end\n",
    "    end\n",
    "    U = A\n",
    "    return L, U\n",
    "end"
   ]
  },
  {
   "cell_type": "code",
   "execution_count": 6,
   "metadata": {
    "collapsed": false
   },
   "outputs": [
    {
     "data": {
      "text/plain": [
       "(\n",
       "4x4 Array{Float64,2}:\n",
       "  1.0   0.0  0.0  0.0\n",
       "  2.0   1.0  0.0  0.0\n",
       "  3.0   4.0  1.0  0.0\n",
       " -1.0  -3.0  0.0  1.0,\n",
       "\n",
       "4x4 Array{Int64,2}:\n",
       " 1   1   0    3\n",
       " 0  -1  -1   -5\n",
       " 0   0   3   13\n",
       " 0   0   0  -13)"
      ]
     },
     "execution_count": 6,
     "metadata": {},
     "output_type": "execute_result"
    }
   ],
   "source": [
    "B = [ 1 1 0 3 ; 2 1 -1 1 ; 3 -1 -1 2 ; -1 2 3 -1]\n",
    "LUdecomp(B)"
   ]
  },
  {
   "cell_type": "markdown",
   "metadata": {},
   "source": [
    "##Determinant of a Matrix\n",
    "Sinc the definition of the determinant is defined recursively (see Def 6.15 in the textbook), it is hard and inefficient to compute it by the definition.  One way to compute it is by the factorization method.  For example, because $A = LU$, $$\\det(A) = \\det(LU) = \\det(L) \\det(U).$$ Moreover, we know that $\\det(L) = 1$ (why?); therefore, $$\\det(A) = \\det(U) = \\Pi_{i=1}^{n} u_{i,i}.$$\n",
    "\n",
    "Find the determinant of the matrix $B$."
   ]
  },
  {
   "cell_type": "code",
   "execution_count": 9,
   "metadata": {
    "collapsed": false
   },
   "outputs": [],
   "source": [
    "L,U = LUdecomp(B)\n",
    "n,n1 = size(B)\n",
    "detB = 1\n",
    "for i = 1:n\n",
    "    detB = detB * U[i]\n",
    "end"
   ]
  },
  {
   "cell_type": "markdown",
   "metadata": {},
   "source": [
    "#Homework(Check the complete problem set on BB)\n",
    "1. Modify the code ```GE``` so that it can deal with row interchanges (see Step 2 and 3 in Algorithm 6.1 on page 364).\n",
    "2. Implement the forward substitution. \n",
    "3. Modify ```LUdecomp``` so that it can be used to solve a linear syste."
   ]
  },
  {
   "cell_type": "code",
   "execution_count": 44,
   "metadata": {
    "collapsed": false
   },
   "outputs": [
    {
     "data": {
      "text/plain": [
       "3x1 Array{Float64,2}:\n",
       " -0.875\n",
       " -0.125\n",
       "  1.5  "
      ]
     },
     "execution_count": 44,
     "metadata": {},
     "output_type": "execute_result"
    }
   ],
   "source": [
    "function mGE(A) # modified GE, handle swaps when neccessary\n",
    "    # Given an augmented matrix A_{n, n+1}\n",
    "    # Output the solution x to Ax = b.\n",
    "    n, n1 = size(A)\n",
    "    for i = 1:n\n",
    "        if A[i,i] == 0 # swap\n",
    "            found = false\n",
    "            for k = i+1:n\n",
    "                if A[k, i] != 0\n",
    "                    A[i,:], A[k,:] = A[k,:], A[i,:]\n",
    "                    found = true\n",
    "                    break\n",
    "                end\n",
    "            end\n",
    "            if !found\n",
    "                return \"no unique solution exists\"\n",
    "            end\n",
    "        end\n",
    "        for j = i+1:n\n",
    "            m = A[j,i] / A[i,i]\n",
    "            A[j,:] = -m*A[i,:] + A[j,:]\n",
    "        end\n",
    "    end\n",
    "    x = BackSub(A)\n",
    "    return x\n",
    "end\n",
    "\n",
    "m = [\n",
    "    0 0 2 3;\n",
    "    1 1 4 5;\n",
    "    0 4 5 7\n",
    "]\n",
    "\n",
    "mGE(m)"
   ]
  },
  {
   "cell_type": "code",
   "execution_count": 22,
   "metadata": {
    "collapsed": false
   },
   "outputs": [
    {
     "data": {
      "text/plain": [
       "ForwardSub (generic function with 1 method)"
      ]
     },
     "execution_count": 22,
     "metadata": {},
     "output_type": "execute_result"
    }
   ],
   "source": [
    "function ForwardSub(L)  \n",
    "\n",
    "end"
   ]
  },
  {
   "cell_type": "code",
   "execution_count": 57,
   "metadata": {
    "collapsed": false
   },
   "outputs": [
    {
     "data": {
      "text/plain": [
       "4x4 Array{Int64,2}:\n",
       " 1   1   0    3\n",
       " 0  -1  -1   -5\n",
       " 0   0   3   13\n",
       " 0   0   0  -13"
      ]
     },
     "execution_count": 57,
     "metadata": {},
     "output_type": "execute_result"
    }
   ],
   "source": [
    "function LUSolver(A,b)\n",
    "     \n",
    "end"
   ]
  },
  {
   "cell_type": "code",
   "execution_count": null,
   "metadata": {
    "collapsed": true
   },
   "outputs": [],
   "source": []
  }
 ],
 "metadata": {
  "kernelspec": {
   "display_name": "Julia 0.4.3",
   "language": "julia",
   "name": "julia-0.4"
  },
  "language_info": {
   "file_extension": ".jl",
   "mimetype": "application/julia",
   "name": "julia",
   "version": "0.4.3"
  }
 },
 "nbformat": 4,
 "nbformat_minor": 0
}
