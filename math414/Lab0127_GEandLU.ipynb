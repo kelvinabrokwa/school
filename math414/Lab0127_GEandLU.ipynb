{
 "cells": [
  {
   "cell_type": "markdown",
   "metadata": {},
   "source": [
    "#Guassian Elimination and LU Decomposition"
   ]
  },
  {
   "cell_type": "markdown",
   "metadata": {},
   "source": [
    "We consider no pivoting and no swapping case.  We need to solve the system of linear equations $$Ax = b,$$ where the dimension of $A$ is $n\\times n$.  In general, the GE can be described as\n",
    "* Do i = 1, ..., n\n",
    "  * Do j = i+1, ..., n\n",
    "    * $m_{ji} = \\frac{a_{ji}}{a_{ii}}$\n",
    "    * $R_j = -m_{ji}R_i + R_j$\n",
    "* (Above completes the GE process. Below performs backward subsitution to obtain $x$.)\n",
    "* $x_n = \\frac{a_{n,n+1}}{a_{n,n}}$\n",
    "* Do i = n-1, ..., 1\n",
    "  * $x_i = [a_{i, n+1} - \\sum_{j=i+1}^{n} a_{i,j} x_j] \\big/ a_{i,i}$"
   ]
  },
  {
   "cell_type": "code",
   "execution_count": 1,
   "metadata": {
    "collapsed": false
   },
   "outputs": [
    {
     "data": {
      "text/plain": [
       "GE (generic function with 1 method)"
      ]
     },
     "execution_count": 1,
     "metadata": {},
     "output_type": "execute_result"
    }
   ],
   "source": [
    "function GE(A)\n",
    "    #Given an augmented matrix A_{n, n+1}\n",
    "    #Output the solution x to Ax = b.\n",
    "    n, n1 = size(A)\n",
    "    for i = 1:n\n",
    "        for j = i + 1:n\n",
    "            m = A[j,i]/A[i,i]\n",
    "            A[j,:] = -m*A[i,:] + A[j,:]\n",
    "        end\n",
    "    end\n",
    "    x = BackSub(A)\n",
    "    return x\n",
    "end"
   ]
  },
  {
   "cell_type": "code",
   "execution_count": 11,
   "metadata": {
    "collapsed": false
   },
   "outputs": [
    {
     "data": {
      "text/plain": [
       "BackSub (generic function with 1 method)"
      ]
     },
     "execution_count": 11,
     "metadata": {},
     "output_type": "execute_result"
    }
   ],
   "source": [
    "function BackSub(U)  \n",
    "    n, n1 = size(U)\n",
    "    x = zeros(n, 1)\n",
    "    x[n] = U[n,n+1]/U[n,n]\n",
    "    for i = n-1:-1:1\n",
    "        temp = 0 # to calculate the summation\n",
    "        for j = i+1:n\n",
    "            temp = temp + U[i,j] * x[j]\n",
    "        end\n",
    "        x[i] = (U[i,n+1] - temp) / U[i,i]\n",
    "    end\n",
    "    return x\n",
    "end\n"
   ]
  },
  {
   "cell_type": "markdown",
   "metadata": {},
   "source": [
    "To test our code, we consider the example in the textbook on page 358.\n",
    "$$\n",
    "\\begin{cases}\n",
    " &x_1 + x_2 + 3x_4 &= 4,\\\\\n",
    " &2x_1 + x_2 - x_3 + x_4 &= 1,\\\\\n",
    " &3x_1 - x_2 - x_3 + 2x_4 &= -3,\\\\\n",
    " &-x_1 + 2x_2 + 3x_3 - x_4 &=4\n",
    "\\end{cases}\n",
    ",\n",
    "$$\n",
    "where the exact solution is $x = (-1, 2, 0, 1)$.\n",
    "\n",
    "The augmented matrix is\n",
    "$$\n",
    "\\begin{pmatrix}\n",
    " 1 & 1 & 0 & 3 & 4 \\\\\n",
    " 2 & 1 & -1& 1 & 1 \\\\\n",
    " 3 & -1& -1& 2 & -3\\\\\n",
    " -1& 2 & 3 & -1& 4\n",
    "\\end{pmatrix}.\n",
    "$$"
   ]
  },
  {
   "cell_type": "code",
   "execution_count": 3,
   "metadata": {
    "collapsed": false
   },
   "outputs": [
    {
     "data": {
      "text/plain": [
       "4x5 Array{Int64,2}:\n",
       "  1   1   0   3   4\n",
       "  2   1  -1   1   1\n",
       "  3  -1  -1   2  -3\n",
       " -1   2   3  -1   4"
      ]
     },
     "execution_count": 3,
     "metadata": {},
     "output_type": "execute_result"
    }
   ],
   "source": [
    "A = [ \n",
    "    1 1 0 3 4;\n",
    "    2 1 -1 1 1;\n",
    "    3 -1 -1 2 -3;\n",
    "    -1 2 3 -1 4\n",
    "]"
   ]
  },
  {
   "cell_type": "code",
   "execution_count": 4,
   "metadata": {
    "collapsed": false
   },
   "outputs": [
    {
     "data": {
      "text/plain": [
       "4x1 Array{Float64,2}:\n",
       " -1.0\n",
       "  2.0\n",
       "  0.0\n",
       "  1.0"
      ]
     },
     "execution_count": 4,
     "metadata": {},
     "output_type": "execute_result"
    }
   ],
   "source": [
    "GE(A)"
   ]
  },
  {
   "cell_type": "markdown",
   "metadata": {},
   "source": [
    "##LU Decomposition\n",
    "A = LU, where $L_{j,i} = m_{j,i}$ and $U$ is the matrix after GE."
   ]
  },
  {
   "cell_type": "markdown",
   "metadata": {},
   "source": [
    "###In Class Exercise.\n",
    "Implement LU decomposition by modifying the Gaussian Elimination function ```GE```.  Run your code on the matrix $$\n",
    "B =\\begin{pmatrix}\n",
    " 1 & 1 & 0 & 3  \\\\\n",
    " 2 & 1 & -1& 1  \\\\\n",
    " 3 & -1& -1& 2 \\\\\n",
    " -1& 2 & 3 & -1\n",
    "\\end{pmatrix},\n",
    "$$\n",
    "where the exact $L$ and $U$ are\n",
    "$$\n",
    "L = \\begin{pmatrix}\n",
    " 1 & 0 & 0 & 0  \\\\\n",
    " 2 & 1 & 0 & 0  \\\\\n",
    " 3 & 4& 1& 0 \\\\\n",
    " -1& -3 & 0 & 1\n",
    "\\end{pmatrix},\\quad\n",
    "U=\n",
    "\\begin{pmatrix}\n",
    " 1 & 1 & 0 & 3  \\\\\n",
    " 0 & -1 & -1& -5  \\\\\n",
    " 0 & 0& 3& 13 \\\\\n",
    " 0 & 0 & 0 & -13\n",
    "\\end{pmatrix}.\n",
    "$$"
   ]
  },
  {
   "cell_type": "code",
   "execution_count": 5,
   "metadata": {
    "collapsed": false
   },
   "outputs": [
    {
     "data": {
      "text/plain": [
       "LUdecomp (generic function with 1 method)"
      ]
     },
     "execution_count": 5,
     "metadata": {},
     "output_type": "execute_result"
    }
   ],
   "source": [
    "function LUdecomp(A)\n",
    "    n, n1 = size(A)\n",
    "    L = eye(n)\n",
    "    U = zeros(n,n1)\n",
    "    for i = 1:n\n",
    "        for j = i + 1:n\n",
    "            m = A[j,i] / A[i,i]\n",
    "            L[j,i] = m\n",
    "            A[j,:] = -m*A[i,:] + A[j,:]\n",
    "\n",
    "        end\n",
    "    end\n",
    "    U = A\n",
    "    return L, U\n",
    "end"
   ]
  },
  {
   "cell_type": "code",
   "execution_count": 6,
   "metadata": {
    "collapsed": false
   },
   "outputs": [
    {
     "data": {
      "text/plain": [
       "(\n",
       "4x4 Array{Float64,2}:\n",
       "  1.0   0.0  0.0  0.0\n",
       "  2.0   1.0  0.0  0.0\n",
       "  3.0   4.0  1.0  0.0\n",
       " -1.0  -3.0  0.0  1.0,\n",
       "\n",
       "4x4 Array{Int64,2}:\n",
       " 1   1   0    3\n",
       " 0  -1  -1   -5\n",
       " 0   0   3   13\n",
       " 0   0   0  -13)"
      ]
     },
     "execution_count": 6,
     "metadata": {},
     "output_type": "execute_result"
    }
   ],
   "source": [
    "B = [ 1 1 0 3 ; 2 1 -1 1 ; 3 -1 -1 2 ; -1 2 3 -1]\n",
    "LUdecomp(B)"
   ]
  },
  {
   "cell_type": "markdown",
   "metadata": {},
   "source": [
    "##Determinant of a Matrix\n",
    "Sinc the definition of the determinant is defined recursively (see Def 6.15 in the textbook), it is hard and inefficient to compute it by the definition.  One way to compute it is by the factorization method.  For example, because $A = LU$, $$\\det(A) = \\det(LU) = \\det(L) \\det(U).$$ Moreover, we know that $\\det(L) = 1$ (why?); therefore, $$\\det(A) = \\det(U) = \\Pi_{i=1}^{n} u_{i,i}.$$\n",
    "\n",
    "Find the determinant of the matrix $B$."
   ]
  },
  {
   "cell_type": "code",
   "execution_count": 9,
   "metadata": {
    "collapsed": false
   },
   "outputs": [],
   "source": [
    "L,U = LUdecomp(B)\n",
    "n,n1 = size(B)\n",
    "detB = 1\n",
    "for i = 1:n\n",
    "    detB = detB * U[i]\n",
    "end"
   ]
  },
  {
   "cell_type": "markdown",
   "metadata": {},
   "source": [
    "#Homework(Check the complete problem set on BB)\n",
    "1. Modify the code ```GE``` so that it can deal with row interchanges (see Step 2 and 3 in Algorithm 6.1 on page 364).\n",
    "2. Implement the forward substitution. \n",
    "3. Modify ```LUdecomp``` so that it can be used to solve a linear syste."
   ]
  },
  {
   "cell_type": "code",
   "execution_count": 47,
   "metadata": {
    "collapsed": false
   },
   "outputs": [
    {
     "name": "stdout",
     "output_type": "stream",
     "text": [
      "[-0.875\n",
      " -0.125\n",
      " 1.5]\n",
      "[-0.875,-0.125,1.5]\n"
     ]
    }
   ],
   "source": [
    "function mGE(A) # modified GE, handle swaps when neccessary\n",
    "    # Given an augmented matrix A_{n, n+1}\n",
    "    # Output the solution x to Ax = b.\n",
    "    n, n1 = size(A)\n",
    "    for i = 1:n\n",
    "        if A[i,i] == 0 # swap\n",
    "            found = false\n",
    "            for k = i+1:n\n",
    "                if A[k, i] != 0\n",
    "                    A[i,:], A[k,:] = A[k,:], A[i,:]\n",
    "                    found = true\n",
    "                    break\n",
    "                end\n",
    "            end\n",
    "            if !found\n",
    "                return \"no unique solution exists\"\n",
    "            end\n",
    "        end\n",
    "        for j = i+1:n\n",
    "            m = A[j,i] / A[i,i]\n",
    "            A[j,:] = -m*A[i,:] + A[j,:]\n",
    "        end\n",
    "    end\n",
    "    x = BackSub(A)\n",
    "    return x\n",
    "end\n",
    "\n",
    "m = [0 0 2 3; 1 1 4 5; 0 4 5 7]\n",
    "\n",
    "println(mGE(m))\n",
    "\n",
    "println([0 0 2; 1 1 4; 0 4 5 ]\\[3;5;7])"
   ]
  },
  {
   "cell_type": "code",
   "execution_count": 50,
   "metadata": {
    "collapsed": false
   },
   "outputs": [
    {
     "name": "stdout",
     "output_type": "stream",
     "text": [
      "[1.0\n",
      " -1.0\n",
      " 2.0]\n",
      "[1.0,-1.0,2.0]\n"
     ]
    }
   ],
   "source": [
    "function ForwardSub(L)  \n",
    "    n, n1 = size(L)\n",
    "    x = zeros(n, 1)\n",
    "    x[1] = L[1,n+1] / U[1,1]\n",
    "    for i = 2:n\n",
    "        temp = 0\n",
    "        for j = i-1:-1:1\n",
    "            temp += L[i,j] * x[j]\n",
    "        end\n",
    "        x[i] = (L[i, n+1] - temp) / L[i,i]\n",
    "    end\n",
    "    return x\n",
    "end\n",
    "\n",
    "m = [1 0 0 1; 2 1 0 1; 3 4 1 1];\n",
    "println(ForwardSub(m))\n",
    "println([1 0 0; 2 1 0; 3 4 1]\\[1;1;1])"
   ]
  },
  {
   "cell_type": "code",
   "execution_count": 57,
   "metadata": {
    "collapsed": false
   },
   "outputs": [
    {
     "name": "stdout",
     "output_type": "stream",
     "text": [
      "[1.0\n",
      " -1.0\n",
      " 2.0][1.0,-1.0,2.0]\n"
     ]
    }
   ],
   "source": [
    "function LUSolver(A,b)\n",
    "    L, U = LUdecomp(A)\n",
    "    y = ForwardSub([L b])\n",
    "    x = BackSub([U y])\n",
    "    return x\n",
    "end\n",
    "print(LUSolver([1 0 0; 2 1 0; 3 4 1], [1;1;1]))\n",
    "println([1 0 0; 2 1 0; 3 4 1]\\[1;1;1])"
   ]
  },
  {
   "cell_type": "code",
   "execution_count": 76,
   "metadata": {
    "collapsed": false
   },
   "outputs": [
    {
     "name": "stdout",
     "output_type": "stream",
     "text": [
      "[1.1875\n",
      " 1.8125\n",
      " 0.875]\n",
      "[1.1875,1.8125,0.8750000000000001]\n"
     ]
    }
   ],
   "source": [
    "# 6.1 5a\n",
    "A = [\n",
    "    1 -1 3;\n",
    "    3 -3 1;\n",
    "    1  1 0;\n",
    "]\n",
    "b = [2; -1; 3]\n",
    "println(mGE([A b]))\n",
    "println(A\\b)"
   ]
  },
  {
   "cell_type": "code",
   "execution_count": 71,
   "metadata": {
    "collapsed": false
   },
   "outputs": [
    {
     "name": "stdout",
     "output_type": "stream",
     "text": [
      "[-1.0\n",
      " -0.0\n",
      " 1.0][-1.0,-0.0,1.0]"
     ]
    }
   ],
   "source": [
    "#6.1 5b\n",
    "A = [\n",
    "    2 -1.5 3;\n",
    "    -1 0 2;\n",
    "    4 -4.5 5\n",
    "]\n",
    "b = [1; 3; 1]\n",
    "println(mGE([A b]))\n",
    "println(A\\b)"
   ]
  },
  {
   "cell_type": "code",
   "execution_count": 72,
   "metadata": {
    "collapsed": false
   },
   "outputs": [
    {
     "name": "stdout",
     "output_type": "stream",
     "text": [
      "[-4.000000000000001\n",
      " 0.6666666666666679\n",
      " -7.0\n",
      " 1.3333333333333333][-4.000000000000001,0.6666666666666679,-7.0,1.3333333333333333]"
     ]
    }
   ],
   "source": [
    "#6.1 5d\n",
    "A = [\n",
    "    1 1 0 4;\n",
    "    2 1 -1 1;\n",
    "    4 -1 -2 2;\n",
    "    3 -1 -1 2\n",
    "]\n",
    "b = [2; 1; 0; -3]\n",
    "println(mGE([A b]))\n",
    "println(A\\b)"
   ]
  },
  {
   "cell_type": "code",
   "execution_count": 74,
   "metadata": {
    "collapsed": false
   },
   "outputs": [
    {
     "data": {
      "text/plain": [
       "3-element Array{Float64,1}:\n",
       " -12.0\n",
       " -14.0\n",
       "  17.0"
      ]
     },
     "execution_count": 74,
     "metadata": {},
     "output_type": "execute_result"
    }
   ],
   "source": [
    "#6.5 8a\n",
    "A = [\n",
    "    1 -1 0;\n",
    "    2 2  3;\n",
    "    -1 3 2\n",
    "]\n",
    "b = [2; -1; 4]\n",
    "println(mGE([A b]))\n",
    "println(A\\b)"
   ]
  },
  {
   "cell_type": "code",
   "execution_count": 77,
   "metadata": {
    "collapsed": false
   },
   "outputs": [
    {
     "name": "stdout",
     "output_type": "stream",
     "text": [
      "[-2.0539419087136936\n",
      " 3.485477178423237\n",
      " 0.23236514522821583]\n",
      "[-2.0539419087136923,3.4854771784232366,0.23236514522821505]\n"
     ]
    }
   ],
   "source": [
    "#6.5 8b\n",
    "A = [\n",
    "    1/3 1/2 -1/4;\n",
    "    1/5 2/3 3/8;\n",
    "    2/5 -2/3 5/8\n",
    "]\n",
    "b = [1; 2; -3]\n",
    "println(mGE([A b]))\n",
    "println(A\\b)"
   ]
  },
  {
   "cell_type": "code",
   "execution_count": null,
   "metadata": {
    "collapsed": true
   },
   "outputs": [],
   "source": []
  }
 ],
 "metadata": {
  "kernelspec": {
   "display_name": "Julia 0.4.3",
   "language": "julia",
   "name": "julia-0.4"
  },
  "language_info": {
   "file_extension": ".jl",
   "mimetype": "application/julia",
   "name": "julia",
   "version": "0.4.3"
  }
 },
 "nbformat": 4,
 "nbformat_minor": 0
}
