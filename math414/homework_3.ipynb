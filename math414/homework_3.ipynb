{
 "cells": [
  {
   "cell_type": "code",
   "execution_count": null,
   "metadata": {
    "collapsed": false
   },
   "outputs": [],
   "source": [
    "function LDLt(A)\n",
    "    # Given an SPD matrix A_{n, n}\n",
    "    # Output L and D\n",
    "    n, n1 = size(A)\n",
    "    v = zeros(n,1)\n",
    "    L = eye(n)\n",
    "    d = zeros(n,1)\n",
    "    for i = 1:n\n",
    "        # step 2\n",
    "        for j = 1:i-1\n",
    "            v[j] = L[i,j] * d[j]\n",
    "        end\n",
    "        \n",
    "        # step 3\n",
    "        temp = 0\n",
    "        for j = 1:i-1\n",
    "            temp = temp + L[i,j] * v[j]\n",
    "        end\n",
    "        d[i] = A[i,i] - temp\n",
    "        \n",
    "        #step 4\n",
    "        for j = i+1:n\n",
    "            temp = 0\n",
    "            for k = 1:i-1\n",
    "                temp = temp + L[j,k] * v[k]\n",
    "            end\n",
    "            L[j,i] = (A[j,i] - temp) / d[i]\n",
    "        end\n",
    "    end\n",
    "    return L, d\n",
    "end"
   ]
  },
  {
   "cell_type": "code",
   "execution_count": null,
   "metadata": {
    "collapsed": false
   },
   "outputs": [],
   "source": [
    "function tridiagLU(A)\n",
    "    n, n1 = size(A)\n",
    "    L = zeros(n,n)\n",
    "    U = eye(n)\n",
    "    L[1,1] = A[1,1]\n",
    "    U[1,2] = A[1,2] / L[1,1]\n",
    "    for i = 2:n-1\n",
    "        L[i, i-1] = A[i,i-1]\n",
    "        L[i,i] = A[i,i] - L[i,i-1] * U[i-1,i]\n",
    "        U[i,i+1] = A[i,i+1] / L[i,i]\n",
    "    end\n",
    "    L[n,n-1] = A[n,n-1]\n",
    "    L[n,n] =  A[n,n] - L[n,n-1]* U[n-1,n]\n",
    "    return L, U\n",
    "end"
   ]
  },
  {
   "cell_type": "code",
   "execution_count": null,
   "metadata": {
    "collapsed": false
   },
   "outputs": [],
   "source": [
    "function jacobi(A,b, x0, TOL, Nmax)\n",
    "    n, n1 = size(A)\n",
    "    x = zeros(n,1)\n",
    "    for k = 1:Nmax\n",
    "        for i = 1:n\n",
    "            temp1 = 0\n",
    "            for j = 1:i-1\n",
    "                temp1 = temp1 + A[i,j] * x0[j]\n",
    "            end\n",
    "            \n",
    "            temp2 = 0\n",
    "            for j = i+1:n\n",
    "                temp2 = temp2 + A[i,j] * x0[j]\n",
    "            end\n",
    "            \n",
    "            x[i] = (-temp1 - temp2 + b[i]) /  A[i,i]\n",
    "        end\n",
    "        res = norm(x - x0, Inf)\n",
    "        #println(k, '\\t', res)\n",
    "        if res < TOL\n",
    "            return x\n",
    "        end\n",
    "        x0[1:n] = x[1:n]\n",
    "    end\n",
    "    println(\"Reached the maximum iterations! Solution might be wrong\")\n",
    "end"
   ]
  },
  {
   "cell_type": "code",
   "execution_count": null,
   "metadata": {
    "collapsed": false
   },
   "outputs": [],
   "source": [
    "function GS(A, b, x0, TOL, Nmax)\n",
    "    n, n1 = size(A)\n",
    "    x = zeros(n,1)\n",
    "    for k = 1:Nmax\n",
    "        for i = 1:n\n",
    "            temp1 = 0\n",
    "            for j = 1:i-1\n",
    "                temp1 = temp1 + A[i,j] * x[j]\n",
    "            end\n",
    "            \n",
    "            temp2 = 0\n",
    "            for j = i+1:n\n",
    "                temp2 = temp2 + A[i,j] * x0[j]\n",
    "            end\n",
    "            \n",
    "            x[i] = ((-temp1) - temp2 + b[i]) /  A[i,i]\n",
    "        end\n",
    "        res = norm(x - x0, Inf) # make sure calculating inf norm\n",
    "        #println(k, '\\t', res)\n",
    "        if res < TOL\n",
    "            return x\n",
    "        end\n",
    "        x0[1:n] = x[1:n]\n",
    "    end\n",
    "    println(\"Reach the maximum iterations! Solution might be wrong\")\n",
    "end"
   ]
  },
  {
   "cell_type": "markdown",
   "metadata": {},
   "source": [
    "# 7.3.9.\n",
    "\n",
    "The linear system\n",
    "\n",
    "$$2x_1 - x_2 + x_3 = -1$$\n",
    "$$2x_1 + 2x_2 + 2x_3 = 4$$\n",
    "$$-x_1 -x_2 + 2x_3 = -5$$\n",
    "\n",
    "has the solution $(1,2,-1)^t$."
   ]
  },
  {
   "cell_type": "markdown",
   "metadata": {},
   "source": [
    "# b. \n",
    "Show that the Jacobi method with $x^{(0)} = 0$ fails to give a good approximation after 25 iterations."
   ]
  },
  {
   "cell_type": "code",
   "execution_count": 19,
   "metadata": {
    "collapsed": false
   },
   "outputs": [
    {
     "name": "stdout",
     "output_type": "stream",
     "text": [
      "Reached the maximum iterations! Solution might be wrong\n"
     ]
    }
   ],
   "source": [
    "A = [\n",
    "    2 -1 1;\n",
    "    2 2 2;\n",
    "    -1 -1 2\n",
    "]\n",
    "b = [-1; 4; -5]\n",
    "x0 = zeros(3,1)\n",
    "TOL = 0.01\n",
    "Nmax = 25\n",
    "jacobi(A, b, x0, TOL, Nmax)"
   ]
  },
  {
   "cell_type": "markdown",
   "metadata": {},
   "source": [
    "So we can see from the above output\n",
    "\n",
    "> `Reached the maximum iterations! Solution might be wrong`\n",
    "\n",
    "That the Jacobi method does not give a good approximation after 25 iterations."
   ]
  },
  {
   "cell_type": "markdown",
   "metadata": {},
   "source": [
    "# d.\n",
    "Use the Gauss-Seidel method with $x(0) = 0$ to approximate the solution to the linear system to within $10^{−5}$ in the $l_∞$ norm."
   ]
  },
  {
   "cell_type": "code",
   "execution_count": 20,
   "metadata": {
    "collapsed": false
   },
   "outputs": [
    {
     "data": {
      "text/plain": [
       "3x1 Array{Float64,2}:\n",
       "  1.0\n",
       "  2.0\n",
       " -1.0"
      ]
     },
     "execution_count": 20,
     "metadata": {},
     "output_type": "execute_result"
    }
   ],
   "source": [
    "# 7.3.9d\n",
    "A = [\n",
    "    2 -1 1;\n",
    "    2 2 2;\n",
    "    -1 -1 2\n",
    "]\n",
    "b = [-1; 4; -5]\n",
    "x0 = zeros(3,1)\n",
    "TOL = 1e-5\n",
    "Nmax = 100\n",
    "GS(A, b, x0, TOL, Nmax)"
   ]
  },
  {
   "cell_type": "markdown",
   "metadata": {},
   "source": [
    "# 7.3.15.\n",
    "\n",
    "Use (a) the Jacobi and (b) the Gauss-Seidel methods to solve the linear system $Ax = b$ to within $10^{−5}$ in the $l_∞$ norm, where the entries of $A$ are\n",
    "\n",
    "$$.$$\n",
    "$$.$$\n",
    "$$.$$\n",
    "\n",
    "\n",
    "and those of $b$ are $b_i = π$, for each $i = 1,2,...,80$."
   ]
  },
  {
   "cell_type": "code",
   "execution_count": 21,
   "metadata": {
    "collapsed": true
   },
   "outputs": [],
   "source": [
    "A_15 = zeros(80,80)\n",
    "for i = 1:80\n",
    "    A_15[i,i] = 2*i\n",
    "    if i + 2 <= 80\n",
    "        A_15[i, i+2] = 0.5*i\n",
    "    end\n",
    "    if i - 2 >= 1\n",
    "        A_15[i, i-2] = 0.5*i\n",
    "    end\n",
    "    if i + 4 <= 80\n",
    "        A_15[i, i+4] = 0.25*i\n",
    "    end\n",
    "    if i - 4 >= 1\n",
    "        A_15[i, i-4] = 0.25*i\n",
    "    end\n",
    "end\n",
    "b_15 = zeros(80,1)\n",
    "for i = 1:80\n",
    "    b_15[i] = pi\n",
    "end"
   ]
  },
  {
   "cell_type": "markdown",
   "metadata": {},
   "source": [
    "# a.\n",
    "\n",
    "Jacobi method"
   ]
  },
  {
   "cell_type": "code",
   "execution_count": 22,
   "metadata": {
    "collapsed": false
   },
   "outputs": [
    {
     "data": {
      "text/plain": [
       "80x1 Array{Float64,2}:\n",
       " 1.53874  \n",
       " 0.731422 \n",
       " 0.107971 \n",
       " 0.173285 \n",
       " 0.0405586\n",
       " 0.0852502\n",
       " 0.16645  \n",
       " 0.121982 \n",
       " 0.101253 \n",
       " 0.0904597\n",
       " 0.0720317\n",
       " 0.070266 \n",
       " 0.0687583\n",
       " ⋮        \n",
       " 0.0129717\n",
       " 0.0127866\n",
       " 0.0127033\n",
       " 0.0125272\n",
       " 0.012377 \n",
       " 0.0122101\n",
       " 0.0112904\n",
       " 0.0111414\n",
       " 0.0121734\n",
       " 0.0120177\n",
       " 0.0154291\n",
       " 0.0152381"
      ]
     },
     "execution_count": 22,
     "metadata": {},
     "output_type": "execute_result"
    }
   ],
   "source": [
    "TOL = 1e-5\n",
    "Nmax = 100\n",
    "x0 = zeros(80,1)\n",
    "jacobi(A_15, b_15, x0, TOL, Nmax)"
   ]
  },
  {
   "cell_type": "markdown",
   "metadata": {},
   "source": [
    "# b.\n",
    "\n",
    "Gauss-Seidel"
   ]
  },
  {
   "cell_type": "code",
   "execution_count": 23,
   "metadata": {
    "collapsed": false
   },
   "outputs": [
    {
     "data": {
      "text/plain": [
       "80x1 Array{Float64,2}:\n",
       " 1.53873  \n",
       " 0.73142  \n",
       " 0.107969 \n",
       " 0.173283 \n",
       " 0.0405559\n",
       " 0.0852479\n",
       " 0.166447 \n",
       " 0.121979 \n",
       " 0.101249 \n",
       " 0.0904566\n",
       " 0.0720279\n",
       " 0.0702627\n",
       " 0.0687542\n",
       " ⋮        \n",
       " 0.0129711\n",
       " 0.012786 \n",
       " 0.0127026\n",
       " 0.0125266\n",
       " 0.0123766\n",
       " 0.0122097\n",
       " 0.0112901\n",
       " 0.011141 \n",
       " 0.0121731\n",
       " 0.0120175\n",
       " 0.015429 \n",
       " 0.015238 "
      ]
     },
     "execution_count": 23,
     "metadata": {},
     "output_type": "execute_result"
    }
   ],
   "source": [
    "# 7.3.15 Gauss-Seidel\n",
    "TOL = 1e-5\n",
    "Nmax = 100\n",
    "x0 = zeros(80,1)\n",
    "GS(A_15, b_15, x0, TOL, Nmax)"
   ]
  },
  {
   "cell_type": "markdown",
   "metadata": {},
   "source": [
    "# 16.\n",
    "\n",
    "Suppose that an object can be at any one of n + 1 equally spaced points $x_0, x_1, . . . , x_n$. When an object is at location xi, it is equally likely to move to either $x_{i−1}$ or $x_{i+1}$ and cannot directly move to any other location. Consider the probabilities $\\{P_i\\}^{n}_{i=0}$ that an object starting at location xi will reach the left endpoint x0 before reaching the right endpoint xn. Clearly, $P_0 = 1$ and $P_n = 0$. Since the object can move to xi only from $x_{i−1}$ or $x_{i+1}$ and does so with probability $\\frac{1}{2}$ for each of these locations,\n",
    "\n",
    "$$\n",
    "P_i = \\frac{1}{2}P_{i-1} + \\frac{1}{2}P_{i+1},\n",
    "$$\n",
    "\n",
    "for each $i = 1,2,...,n-1$.\n",
    "\n",
    "# b.\n",
    "\n",
    "Solve this system using $n = 10, 50,$ and $100$."
   ]
  },
  {
   "cell_type": "code",
   "execution_count": 24,
   "metadata": {
    "collapsed": false
   },
   "outputs": [
    {
     "data": {
      "text/plain": [
       "0.5"
      ]
     },
     "execution_count": 24,
     "metadata": {},
     "output_type": "execute_result"
    }
   ],
   "source": [
    "# 7.3.16b\n",
    "n = 100\n",
    "A = eye(n)\n",
    "for i = 1:n\n",
    "    if i != 1\n",
    "        A[i,i-1] = -1/2\n",
    "    end\n",
    "    if i != n\n",
    "        A[i, i+1] = -1/2\n",
    "    end\n",
    "end\n",
    "A\n",
    "\n",
    "b = zeros(n,1)\n",
    "b[1] = 1/2"
   ]
  },
  {
   "cell_type": "markdown",
   "metadata": {},
   "source": [
    "## Gauss-Sidel"
   ]
  },
  {
   "cell_type": "code",
   "execution_count": 25,
   "metadata": {
    "collapsed": false
   },
   "outputs": [
    {
     "data": {
      "text/plain": [
       "100x1 Array{Float64,2}:\n",
       " 0.990099  \n",
       " 0.980197  \n",
       " 0.970296  \n",
       " 0.960395  \n",
       " 0.950493  \n",
       " 0.940592  \n",
       " 0.930691  \n",
       " 0.920789  \n",
       " 0.910888  \n",
       " 0.900987  \n",
       " 0.891086  \n",
       " 0.881184  \n",
       " 0.871283  \n",
       " ⋮         \n",
       " 0.118808  \n",
       " 0.108907  \n",
       " 0.0990068 \n",
       " 0.0891061 \n",
       " 0.0792054 \n",
       " 0.0693047 \n",
       " 0.0594041 \n",
       " 0.0495034 \n",
       " 0.0396027 \n",
       " 0.029702  \n",
       " 0.0198014 \n",
       " 0.00990068"
      ]
     },
     "execution_count": 25,
     "metadata": {},
     "output_type": "execute_result"
    }
   ],
   "source": [
    "x0 = zeros(n,1)\n",
    "TOL = 1e-8\n",
    "Nmax = 20000\n",
    "GS(A, b, x0, TOL, Nmax)"
   ]
  },
  {
   "cell_type": "markdown",
   "metadata": {},
   "source": [
    "## Tridiagonal LU Solver"
   ]
  },
  {
   "cell_type": "code",
   "execution_count": 26,
   "metadata": {
    "collapsed": false
   },
   "outputs": [
    {
     "data": {
      "text/plain": [
       "100x1 Array{Float64,2}:\n",
       " 0.990099  \n",
       " 0.980198  \n",
       " 0.970297  \n",
       " 0.960396  \n",
       " 0.950495  \n",
       " 0.940594  \n",
       " 0.930693  \n",
       " 0.920792  \n",
       " 0.910891  \n",
       " 0.90099   \n",
       " 0.891089  \n",
       " 0.881188  \n",
       " 0.871287  \n",
       " ⋮         \n",
       " 0.118812  \n",
       " 0.108911  \n",
       " 0.0990099 \n",
       " 0.0891089 \n",
       " 0.0792079 \n",
       " 0.0693069 \n",
       " 0.0594059 \n",
       " 0.049505  \n",
       " 0.039604  \n",
       " 0.029703  \n",
       " 0.019802  \n",
       " 0.00990099"
      ]
     },
     "execution_count": 26,
     "metadata": {},
     "output_type": "execute_result"
    }
   ],
   "source": [
    "L, U = tridiagLU([A b])\n",
    "y = L\\b\n",
    "x = U\\y\n",
    "x"
   ]
  },
  {
   "cell_type": "markdown",
   "metadata": {},
   "source": [
    "## LDL Decomposition Solver"
   ]
  },
  {
   "cell_type": "code",
   "execution_count": 27,
   "metadata": {
    "collapsed": false
   },
   "outputs": [
    {
     "data": {
      "text/plain": [
       "100x1 Array{Float64,2}:\n",
       " 0.990099  \n",
       " 0.980198  \n",
       " 0.970297  \n",
       " 0.960396  \n",
       " 0.950495  \n",
       " 0.940594  \n",
       " 0.930693  \n",
       " 0.920792  \n",
       " 0.910891  \n",
       " 0.90099   \n",
       " 0.891089  \n",
       " 0.881188  \n",
       " 0.871287  \n",
       " ⋮         \n",
       " 0.118812  \n",
       " 0.108911  \n",
       " 0.0990099 \n",
       " 0.0891089 \n",
       " 0.0792079 \n",
       " 0.0693069 \n",
       " 0.0594059 \n",
       " 0.049505  \n",
       " 0.039604  \n",
       " 0.029703  \n",
       " 0.019802  \n",
       " 0.00990099"
      ]
     },
     "execution_count": 27,
     "metadata": {},
     "output_type": "execute_result"
    }
   ],
   "source": [
    "L, d = LDLt([A b])\n",
    "D = zeros(n,n)\n",
    "for i = 1:n\n",
    "    D[i,i] = d[i]\n",
    "end\n",
    "y = L\\b\n",
    "z = D\\y\n",
    "x = transpose(L)\\z\n",
    "x"
   ]
  },
  {
   "cell_type": "code",
   "execution_count": null,
   "metadata": {
    "collapsed": true
   },
   "outputs": [],
   "source": []
  }
 ],
 "metadata": {
  "kernelspec": {
   "display_name": "Julia 0.4.3",
   "language": "julia",
   "name": "julia-0.4"
  },
  "language_info": {
   "file_extension": ".jl",
   "mimetype": "application/julia",
   "name": "julia",
   "version": "0.4.3"
  }
 },
 "nbformat": 4,
 "nbformat_minor": 0
}
