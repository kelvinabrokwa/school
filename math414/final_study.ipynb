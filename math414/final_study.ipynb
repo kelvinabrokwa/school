{
 "cells": [
  {
   "cell_type": "code",
   "execution_count": 5,
   "metadata": {
    "collapsed": false
   },
   "outputs": [
    {
     "name": "stdout",
     "output_type": "stream",
     "text": [
      "([1.1,1.2,1.3,1.4,1.5,1.6,1.7000000000000002,1.8,1.9,2.0,2.1,2.2,2.3,2.4000000000000004,2.5,2.6,2.7,2.8,2.9000000000000004,0.0,3.0],[17.0,15.754502533520938,14.771739639124213,13.995677413709755,13.386296535884732,12.91425238777826,12.557538206123926,12.299326264930219,12.12652885329212,12.028813799359055,11.997915414732235,12.027142365680815,12.111019800497383,12.245024864745664,12.425388361064465,12.648944029200072,12.913012622282949,13.2153117552817,13.553885079919342,13.927046118445327,14.333333333333334])\n"
     ]
    }
   ],
   "source": [
    "function nonLinearFD(a, b, alpha, beta, N, TOL, max, f, fy, fyy)\n",
    "    w = zeros(N)\n",
    "    _a = zeros(N)\n",
    "    _b = zeros(N)\n",
    "    _c = zeros(N)\n",
    "    _d = zeros(N)\n",
    "    \n",
    "    h = (b - a) / (N + 1)\n",
    "    \n",
    "    for i = 1:N\n",
    "        w[i] = alpha + i*((beta - alpha)/(b - a))*h\n",
    "    end\n",
    "\n",
    "    k = 1\n",
    "    while k <= max\n",
    "        x = a + h\n",
    "        t = (w[2] - alpha) / (2*h)\n",
    "        _a[1] = 2 + (h^2)*fy(x, w[1], t)\n",
    "        _b[1] = -1 + (h/2)*fyy(x, w[1], t)\n",
    "        _d[1] = -(2*w[1] - w[2] - alpha + (h^2)*f(x, w[1], t))\n",
    "        for i = 2:N-1\n",
    "            x = a + i*h\n",
    "            t = (w[i+1] - w[i-1]) / (2*h)\n",
    "            _a[i] = 2 + (h^2)*fy(x, w[i], t)\n",
    "            _b[i] = -1 + (h/2)*fyy(x, w[i], t)\n",
    "            _c[i] = -1 - (h/2)*fyy(x, w[i], t)\n",
    "            _d[i] = -(2*w[i] - w[i+1] - w[i-1] + (h^2)*f(x, w[i], t))\n",
    "        end\n",
    "        x = b - h\n",
    "        t = (beta - w[N-1]) / (2*h)\n",
    "        _a[N] = 2 + h^2*fy(x, w[N], t)\n",
    "        _c[N] = -1 - (h/2)*fyy(x, w[N], t)\n",
    "        _d[N] = -(2*w[N] - w[N-1] - beta + (h^2)*f(x, w[N], t))\n",
    "        \n",
    "\n",
    "        ################# tridiag #################\n",
    "        l = zeros(N)\n",
    "        v = zeros(N)\n",
    "        u = zeros(N)\n",
    "        z = zeros(N)\n",
    "        l[1] = _a[1]\n",
    "        u[1] = _b[1] / _a[1]\n",
    "        z[1] = _d[1] / l[1]\n",
    "        for i = 2:N-1\n",
    "            l[i] = _a[i] - _c[i]*u[i-1]\n",
    "            u[i] = _b[i] / l[i]\n",
    "            z[i] = (_d[i] - _c[i]*z[i-1])/l[i]\n",
    "        end\n",
    "        l[N] = _a[N] - _c[N]*u[N-1]\n",
    "        z[N] = (_d[N] - _c[N]*z[N-1]) / l[N]\n",
    "        v[N] = z[N]\n",
    "        w[N] += v[N]\n",
    "        for i = N-1:-1:1\n",
    "            v[i] = z[i] - u[i]*v[i+1]\n",
    "            w[i] += v[i]\n",
    "        end\n",
    "        ##########################################\n",
    "\n",
    "\n",
    "        if norm(v) <= TOL\n",
    "            # add boundaries\n",
    "            _w = zeros(N+2)\n",
    "            x = zeros(N+2)\n",
    "            _w[1] = alpha\n",
    "            _w[N+2] = beta\n",
    "            x[1] = a\n",
    "            x[N+2] = b\n",
    "            for i = 1:N\n",
    "                _w[i+1]= w[i]\n",
    "                x[i] = a + i*h\n",
    "            end\n",
    "            #w = _w\n",
    "            return x, _w\n",
    "        end\n",
    "        k += 1\n",
    "    end\n",
    "    println(\"maximum iterations\")\n",
    "end\n",
    "\n",
    "a = 1 # endpoint\n",
    "b = 3 # endpoint\n",
    "alpha = 17 # boundary condition\n",
    "beta = 43/3 # boundary condition\n",
    "N = 19 # number of chunks\n",
    "TOL = 1e-8 # tolerance\n",
    "max = 100000 # maximum iterations\n",
    "f = (x, w, t) -> (1/8)*(32 + 2*x^3 - w*t) # f = y''\n",
    "fy = (x, w, t) -> (-1/8)*t # fy - t = y' w = y\n",
    "fyy = (x, w, t) -> (-1/8)*w*f(x, w, t) # fy' - t = y' w = y\n",
    "println(nonLinearFD(a, b, alpha, beta, N, TOL, max, f, fy, fyy))"
   ]
  },
  {
   "cell_type": "code",
   "execution_count": null,
   "metadata": {
    "collapsed": true
   },
   "outputs": [],
   "source": []
  }
 ],
 "metadata": {
  "kernelspec": {
   "display_name": "Julia 0.4.3",
   "language": "julia",
   "name": "julia-0.4"
  },
  "language_info": {
   "file_extension": ".jl",
   "mimetype": "application/julia",
   "name": "julia",
   "version": "0.4.3"
  }
 },
 "nbformat": 4,
 "nbformat_minor": 0
}
