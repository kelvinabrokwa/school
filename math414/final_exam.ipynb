{
 "cells": [
  {
   "cell_type": "code",
   "execution_count": 3,
   "metadata": {
    "collapsed": false
   },
   "outputs": [],
   "source": [
    "using PyPlot"
   ]
  },
  {
   "cell_type": "code",
   "execution_count": 4,
   "metadata": {
    "collapsed": false
   },
   "outputs": [
    {
     "ename": "LoadError",
     "evalue": "LoadError: InterruptException:\nwhile loading In[4], in expression starting on line 57",
     "output_type": "error",
     "traceback": [
      "LoadError: InterruptException:\nwhile loading In[4], in expression starting on line 57",
      ""
     ]
    }
   ],
   "source": [
    "# Chandrasekhar H-Equation\n",
    "function getA(m, c, N)\n",
    "    A = zeros(N,N)\n",
    "    for i = 1:N\n",
    "        for j = 1:N\n",
    "            A[i,j] = c * m[i] / (2 * N * (m[i] + m[j]))\n",
    "        end\n",
    "    end\n",
    "    A\n",
    "end\n",
    "\n",
    "function Jacobian(delta, A, Ax, N)\n",
    "    J = zeros(N,N)\n",
    "    for i = 1:N\n",
    "        for j = 1:N\n",
    "            J[i,j] = delta[i,j] - (A[i,j] / (1 - (Ax)[i])^2)\n",
    "        end\n",
    "    end\n",
    "    J\n",
    "end\n",
    "\n",
    "function Func(Ax, N)\n",
    "    out = zeros(N)\n",
    "    for i = 1:N\n",
    "        out[i] = 1 / (1 - Ax[i])\n",
    "    end\n",
    "    out\n",
    "end\n",
    "\n",
    "function main(c, N, x0)\n",
    "    x = x0\n",
    "    xp = zeros(N)\n",
    "    delta = eye(N,N)\n",
    "    m = zeros(N)\n",
    "    for i = 1:N\n",
    "        m[i] = (i - 1/2) / N\n",
    "    end\n",
    "    A = getA(m, c, N)\n",
    "    Ax = A*x\n",
    "    F = Func(Ax, N)\n",
    "    while norm(F) > TOL && norm(x - xp) > TOL\n",
    "        Ax = A*x\n",
    "        J = Jacobian(delta, A, Ax, N)\n",
    "        F = Func(Ax, N)\n",
    "        xp[:] = x[:]\n",
    "        x -= J\\F\n",
    "    end\n",
    "    m,x\n",
    "end\n",
    "\n",
    "# given params\n",
    "c = 0.9;\n",
    "N = 100;\n",
    "TOL = 1e-10;\n",
    "x0 = ones(N);\n",
    "\n",
    "m, x = main(c, N, x0)\n",
    "plot(m, x)"
   ]
  },
  {
   "cell_type": "code",
   "execution_count": null,
   "metadata": {
    "collapsed": true
   },
   "outputs": [],
   "source": []
  }
 ],
 "metadata": {
  "kernelspec": {
   "display_name": "Julia 0.4.3",
   "language": "julia",
   "name": "julia-0.4"
  },
  "language_info": {
   "file_extension": ".jl",
   "mimetype": "application/julia",
   "name": "julia",
   "version": "0.4.3"
  }
 },
 "nbformat": 4,
 "nbformat_minor": 0
}
