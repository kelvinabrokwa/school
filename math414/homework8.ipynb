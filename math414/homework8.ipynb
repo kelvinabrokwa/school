{
 "cells": [
  {
   "cell_type": "markdown",
   "metadata": {},
   "source": [
    "# Kelvin Abrokwa-Johnson\n",
    "\n",
    "## Homework 8"
   ]
  },
  {
   "cell_type": "code",
   "execution_count": 395,
   "metadata": {
    "collapsed": false
   },
   "outputs": [],
   "source": [
    "function GradDesConst(F, JF, x, tol)\n",
    "    gradG = x -> 2 * (JF(x)') * F(x)\n",
    "    xp = zeros(size(x))\n",
    "    k = 1\n",
    "    Nmax = 2000\n",
    "    alpha = 1e-4\n",
    "    while norm(F(x)) > tol && k < Nmax\n",
    "        xp[:] = x[:]\n",
    "        x = x - alpha*gradG(x)\n",
    "        k = k + 1\n",
    "    end\n",
    "    return x\n",
    "end;"
   ]
  },
  {
   "cell_type": "code",
   "execution_count": 396,
   "metadata": {
    "collapsed": true
   },
   "outputs": [],
   "source": [
    "function newton(F, DF, x, TOL)\n",
    "    xp = zeros(size(x))\n",
    "    while norm(F(x)) > TOL && norm(x-xp) > TOL\n",
    "        xp[:] = x[:]\n",
    "        x[:] = x[:] - (DF(x)\\F(x))\n",
    "    end\n",
    "    return x\n",
    "end;"
   ]
  },
  {
   "cell_type": "markdown",
   "metadata": {},
   "source": [
    "## 10.4.2c.\n",
    "\n",
    "Use the method of Steepest Descent with $TOL = 0.05$ to approximate the solutions of the following nonlinear systems.\n",
    "\n",
    "$$x_1^3 + x_1^2 x_2 - x_1 x_3 + 6 = 0$$\n",
    "$$e^{x_1} + cos(x_1 x_2) = 0$$\n",
    "$$x_2^2 - 2x_1 x_3 = 4$$"
   ]
  },
  {
   "cell_type": "code",
   "execution_count": 397,
   "metadata": {
    "collapsed": false
   },
   "outputs": [
    {
     "name": "stdout",
     "output_type": "stream",
     "text": [
      "[-1.4741413313797522,-1.6107887876486546,0.47840750745835764]\n"
     ]
    }
   ],
   "source": [
    "function F(x)\n",
    "    return [\n",
    "        x[1]^3 + (x[1]^2)*x[2] - x[1]*x[3] + 6;\n",
    "        exp(x[1]) + exp(x[2]) - x[3];\n",
    "        x[2]^2 - 2*x[1]*x[3] - 4\n",
    "    ];\n",
    "end\n",
    "\n",
    "function JF(x)\n",
    "    return [\n",
    "        (3*(x[1]^2) + 2*x[1]*x[2] - x[3]) (x[1]^2) (-x[1]);\n",
    "        (exp(x[1])) (exp(x[2])) (-1);\n",
    "        (-2*x[3]) (2*x[2]) (-2*x[1])\n",
    "    ];\n",
    "end\n",
    "\n",
    "tol = 0.05;\n",
    "x = [-1; -2; 1.]\n",
    "println(GradDesConst(F, JF, x, tol));"
   ]
  },
  {
   "cell_type": "markdown",
   "metadata": {},
   "source": [
    "## 10.2.4c.\n",
    "\n",
    "Use the results of Exercise 2 and Newton’s method to approximate the solutions of the nonlinear systems in Exercise 2 to within $10^{−6}$."
   ]
  },
  {
   "cell_type": "code",
   "execution_count": 398,
   "metadata": {
    "collapsed": false
   },
   "outputs": [
    {
     "name": "stdout",
     "output_type": "stream",
     "text": [
      "[-1.4560427975108896,-1.6642304663744762,0.4224934033946674]\n"
     ]
    }
   ],
   "source": [
    "println(newton(F, DF, x, 10e-6));"
   ]
  },
  {
   "cell_type": "markdown",
   "metadata": {},
   "source": [
    "## 12.2.16.\n",
    "\n",
    "Use the results of Exercise 15 to approximate the solution to\n",
    "\n",
    "$$\\frac{\\delta u}{\\delta t} - \\frac{\\delta^2 u}{\\delta x^2} = 2, 0 < x < 1, 0 < t;$$\n",
    "$$u(0, t) = u(1, t) = 0, 0 < t$$\n",
    "$$u(x, 0) = sin \\pi x + x(1 - x)$$\n",
    "\n",
    "with $h=0.1$, $k = 0.01$. Compare your answer at $t = 0.25$ to the actual solution $u(x,t) = e^{-\\pi x} sin \\pi x + x(1 - x)$."
   ]
  },
  {
   "cell_type": "code",
   "execution_count": 400,
   "metadata": {
    "collapsed": false
   },
   "outputs": [],
   "source": [
    "function GenA(lam, n)\n",
    "    out = zeros(n, n)\n",
    "    for i = 1:n\n",
    "        out[i, i] = 1 - 2*lam\n",
    "        for j = 1:n\n",
    "            if i == j-1 || i == j+1\n",
    "                out[i, j] = lam\n",
    "            end\n",
    "        end\n",
    "    end\n",
    "    return out\n",
    "end\n",
    "\n",
    "function ForwardDiff(a, k, h, m, t, f, F)\n",
    "    w = zeros(m)\n",
    "    x = zeros(m)\n",
    "    lam = a^2*(k/h^2)\n",
    "    A = GenA(lam, m)\n",
    "    for i = 1:m\n",
    "        x[i] = i*h\n",
    "        w[i] = f(x[i])\n",
    "    end\n",
    "    for i = 1:t/k\n",
    "        w[:] = A*w[:]\n",
    "        # modification\n",
    "        for j = 1:m\n",
    "            w[j] = w[j] + F(i*h)*k\n",
    "        end\n",
    "    end\n",
    "    return x, w\n",
    "end;"
   ]
  },
  {
   "cell_type": "code",
   "execution_count": 401,
   "metadata": {
    "collapsed": false
   },
   "outputs": [],
   "source": [
    "function F(x)\n",
    "    return 2\n",
    "end\n",
    "function f(x)\n",
    "    return sin(pi*x) + x*(1-x)\n",
    "end\n",
    "a = 1\n",
    "k = 0.01\n",
    "h = 0.1\n",
    "m = 9\n",
    "t = 0.25;"
   ]
  },
  {
   "cell_type": "code",
   "execution_count": 402,
   "metadata": {
    "collapsed": false
   },
   "outputs": [],
   "source": [
    "# actual answer\n",
    "function u(x, t, m)\n",
    "    w = zeros(m)\n",
    "    for i = 1:m\n",
    "        w[i] = (e^(-pi^2*t))*sin(pi*x[i]) + x[i]*(1-x[i])\n",
    "    end\n",
    "    return w\n",
    "end;"
   ]
  },
  {
   "cell_type": "code",
   "execution_count": 403,
   "metadata": {
    "collapsed": false
   },
   "outputs": [],
   "source": [
    "x, w1 = ForwardDiff(a, k, h, m, t, f, F);\n",
    "w2 = u(x, t, m);"
   ]
  },
  {
   "cell_type": "markdown",
   "metadata": {},
   "source": [
    "Comparing answer at $t = 0.25$:"
   ]
  },
  {
   "cell_type": "code",
   "execution_count": 404,
   "metadata": {
    "collapsed": false
   },
   "outputs": [
    {
     "data": {
      "text/plain": [
       "0.019410346738015106"
      ]
     },
     "execution_count": 404,
     "metadata": {},
     "output_type": "execute_result"
    }
   ],
   "source": [
    "norm(w1 - w2)"
   ]
  }
 ],
 "metadata": {
  "kernelspec": {
   "display_name": "Julia 0.4.3",
   "language": "julia",
   "name": "julia-0.4"
  },
  "language_info": {
   "file_extension": ".jl",
   "mimetype": "application/julia",
   "name": "julia",
   "version": "0.4.3"
  }
 },
 "nbformat": 4,
 "nbformat_minor": 0
}
