{
 "cells": [
  {
   "cell_type": "markdown",
   "metadata": {},
   "source": [
    "# Kelvin Abrokwa-Johnson\n",
    "## homework 9"
   ]
  },
  {
   "cell_type": "markdown",
   "metadata": {},
   "source": [
    "## 12.2.16\n",
    "\n",
    "Use the results of Exercise 15 to approximate the solution to\n",
    "\n",
    "$$\\frac{\\delta u}{\\delta t} - \\frac{\\delta^2 u}{\\delta x^2} = 2, 0 < x < 1, 0 < t;$$\n",
    "$$u(0, t) = u(1, t) = 0, 0 < t$$\n",
    "$$u(x, 0) = sin \\pi x + x(1 - x)$$\n",
    "\n",
    "with $h=0.1$, $k = 0.01$. Compare your answer at $t = 0.25$ to the actual solution $u(x,t) = e^{-\\pi x} sin \\pi x + x(1 - x)$."
   ]
  },
  {
   "cell_type": "markdown",
   "metadata": {},
   "source": [
    "Crank-Nicolson Implementation"
   ]
  },
  {
   "cell_type": "code",
   "execution_count": 88,
   "metadata": {
    "collapsed": false
   },
   "outputs": [],
   "source": [
    "function getA(lam, n)\n",
    "    out = zeros(n,n)\n",
    "    for i = 1:n\n",
    "        out[i, i] = 1 + lam\n",
    "        for j = 1:n\n",
    "            if i == j-1 || i == j+1\n",
    "                out[i, j] = -lam/2\n",
    "            end\n",
    "        end\n",
    "    end\n",
    "    return out\n",
    "end\n",
    "\n",
    "function getB(lam, n)\n",
    "    out = zeros(n,n)\n",
    "    for i = 1:n\n",
    "        out[i, i] = 1 - lam\n",
    "        for j = 1:n\n",
    "            if i == j-1 || i == j+1\n",
    "                out[i, j] = lam/2\n",
    "            end\n",
    "        end\n",
    "    end\n",
    "    return out\n",
    "end\n",
    "\n",
    "function CrankNicolson(a, k, h, m, t, f, F)\n",
    "    w = zeros(m)\n",
    "    x = zeros(m)\n",
    "    lam = a^2*(k/h^2)\n",
    "    A = getA(lam, m)\n",
    "    B = getB(lam, m)\n",
    "    for i = 1:m\n",
    "        x[i] = i*h\n",
    "        w[i] = f(x[i])\n",
    "    end\n",
    "    for i = 1:t/k\n",
    "        for j = 1:m\n",
    "            w[j] = w[j] + F(i*h)*k / 2\n",
    "        end\n",
    "        w[:] = A\\(B*w[:])\n",
    "        for j = 1:m\n",
    "            w[j] = w[j] + F(i*h)*k / 2\n",
    "        end\n",
    "    end\n",
    "    return w;\n",
    "end;"
   ]
  },
  {
   "cell_type": "markdown",
   "metadata": {},
   "source": [
    "Backward Difference Implementation"
   ]
  },
  {
   "cell_type": "code",
   "execution_count": 89,
   "metadata": {
    "collapsed": true
   },
   "outputs": [],
   "source": [
    "function GenA(lam, n)\n",
    "    out = zeros(n, n)\n",
    "    for i = 1:n\n",
    "        out[i, i] = 1 + 2*lam\n",
    "        for j = 1:n\n",
    "            if i == j-1 || i == j+1\n",
    "                out[i, j] = -lam\n",
    "            end\n",
    "        end\n",
    "    end\n",
    "    return out\n",
    "end\n",
    "\n",
    "function BackwardDiff(a, k, h, m, t, f, F)\n",
    "    w = zeros(m)\n",
    "    x = zeros(m)\n",
    "    lam = a^2*(k/h^2)\n",
    "    A = GenA(lam, m)\n",
    "    for i = 1:m\n",
    "        x[i] = i*h\n",
    "        w[i] = f(x[i])\n",
    "    end\n",
    "    for i = 1:t/k\n",
    "        for j = 1:m\n",
    "            w[j] = w[j] + F(i*h)*k\n",
    "        end\n",
    "        w[:] = A\\w[:]\n",
    "    end\n",
    "    return x, w\n",
    "end;"
   ]
  },
  {
   "cell_type": "code",
   "execution_count": 90,
   "metadata": {
    "collapsed": false
   },
   "outputs": [],
   "source": [
    "function F(x)\n",
    "    return 2\n",
    "end\n",
    "f = x -> sin(pi*x) + x*(1-x)\n",
    "a = 1\n",
    "k = 0.01\n",
    "h = 0.1\n",
    "m = 9\n",
    "t = 0.25;"
   ]
  },
  {
   "cell_type": "markdown",
   "metadata": {},
   "source": [
    "Backward Difference results"
   ]
  },
  {
   "cell_type": "code",
   "execution_count": 91,
   "metadata": {
    "collapsed": false
   },
   "outputs": [
    {
     "data": {
      "text/plain": [
       "9-element Array{Float64,1}:\n",
       " 0.119926\n",
       " 0.216922\n",
       " 0.288346\n",
       " 0.332101\n",
       " 0.346841\n",
       " 0.332101\n",
       " 0.288346\n",
       " 0.216922\n",
       " 0.119926"
      ]
     },
     "execution_count": 91,
     "metadata": {},
     "output_type": "execute_result"
    }
   ],
   "source": [
    "x, w1 = BackwardDiff(a, k, h, m, t, f, F);\n",
    "w1"
   ]
  },
  {
   "cell_type": "markdown",
   "metadata": {},
   "source": [
    "Crank-Nicolson results"
   ]
  },
  {
   "cell_type": "code",
   "execution_count": 92,
   "metadata": {
    "collapsed": false
   },
   "outputs": [
    {
     "data": {
      "text/plain": [
       "9-element Array{Float64,1}:\n",
       " 0.116689\n",
       " 0.210766\n",
       " 0.279874\n",
       " 0.322141\n",
       " 0.336369\n",
       " 0.322141\n",
       " 0.279874\n",
       " 0.210766\n",
       " 0.116689"
      ]
     },
     "execution_count": 92,
     "metadata": {},
     "output_type": "execute_result"
    }
   ],
   "source": [
    "w2 = CrankNicolson(a, k, h, m, t, f, F);\n",
    "w2"
   ]
  },
  {
   "cell_type": "code",
   "execution_count": 93,
   "metadata": {
    "collapsed": false
   },
   "outputs": [
    {
     "data": {
      "text/plain": [
       "9-element Array{Float64,1}:\n",
       " 0.116206\n",
       " 0.209847\n",
       " 0.278609\n",
       " 0.320654\n",
       " 0.334805\n",
       " 0.320654\n",
       " 0.278609\n",
       " 0.209847\n",
       " 0.116206"
      ]
     },
     "execution_count": 93,
     "metadata": {},
     "output_type": "execute_result"
    }
   ],
   "source": [
    "# actual answer\n",
    "function u(x, t, m)\n",
    "    w = zeros(m)\n",
    "    for i = 1:m\n",
    "        w[i] = (e^(-pi^2*t))*sin(pi*x[i]) + x[i]*(1-x[i])\n",
    "    end\n",
    "    return w\n",
    "end;\n",
    "w3 = u(x, t, m);\n",
    "w3"
   ]
  },
  {
   "cell_type": "code",
   "execution_count": 94,
   "metadata": {
    "collapsed": false
   },
   "outputs": [
    {
     "name": "stdout",
     "output_type": "stream",
     "text": [
      "Backwards Difference error: 0.026913370911504836\n",
      "Crank-Nicolson difference error: 0.003496388432786654\n"
     ]
    }
   ],
   "source": [
    "println(\"Backwards Difference error: \", norm(w1 - w3));\n",
    "println(\"Crank-Nicolson difference error: \", norm(w2 - w3));"
   ]
  }
 ],
 "metadata": {
  "kernelspec": {
   "display_name": "Julia 0.4.3",
   "language": "julia",
   "name": "julia-0.4"
  },
  "language_info": {
   "file_extension": ".jl",
   "mimetype": "application/julia",
   "name": "julia",
   "version": "0.4.3"
  }
 },
 "nbformat": 4,
 "nbformat_minor": 0
}
