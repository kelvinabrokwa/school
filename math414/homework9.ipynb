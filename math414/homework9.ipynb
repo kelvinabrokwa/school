{
 "cells": [
  {
   "cell_type": "markdown",
   "metadata": {},
   "source": [
    "## 12.2.16"
   ]
  },
  {
   "cell_type": "markdown",
   "metadata": {},
   "source": [
    "Crank-Nicolson"
   ]
  },
  {
   "cell_type": "code",
   "execution_count": 12,
   "metadata": {
    "collapsed": false
   },
   "outputs": [
    {
     "data": {
      "text/plain": [
       "10-element Array{Float64,1}:\n",
       " 0.309017\n",
       " 0.587785\n",
       " 0.809017\n",
       " 0.951057\n",
       " 1.0     \n",
       " 0.951057\n",
       " 0.809017\n",
       " 0.587785\n",
       " 0.309017\n",
       " 0.0     "
      ]
     },
     "execution_count": 12,
     "metadata": {},
     "output_type": "execute_result"
    }
   ],
   "source": [
    "function CrankNicolson(f, l, T, a, m, N)\n",
    "    w = zeros(m);\n",
    "    h = l/m;\n",
    "    k = T/N;\n",
    "    lam = a^2 * k / h^2;\n",
    "    w[m] = 0;\n",
    "    for i = 1:m-1\n",
    "        w[i] = f(i*h);\n",
    "    end\n",
    "    return w;\n",
    "end\n",
    "f = x -> sin(pi*x)\n",
    "l = 1; # endpoint\n",
    "T = 0.5; # maximum time\n",
    "a = 1; # constant\n",
    "m = 10; # >= 3\n",
    "N = 50; # >= 1\n",
    "cn = CrankNicolson(f, l, T, a, m, N);\n",
    "cn"
   ]
  },
  {
   "cell_type": "code",
   "execution_count": null,
   "metadata": {
    "collapsed": true
   },
   "outputs": [],
   "source": []
  }
 ],
 "metadata": {
  "kernelspec": {
   "display_name": "Julia 0.4.3",
   "language": "julia",
   "name": "julia-0.4"
  },
  "language_info": {
   "file_extension": ".jl",
   "mimetype": "application/julia",
   "name": "julia",
   "version": "0.4.3"
  }
 },
 "nbformat": 4,
 "nbformat_minor": 0
}
