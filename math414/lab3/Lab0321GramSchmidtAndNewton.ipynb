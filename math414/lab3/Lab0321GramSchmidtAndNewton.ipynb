{
 "cells": [
  {
   "cell_type": "markdown",
   "metadata": {},
   "source": [
    "# Row- or Column-major order\n",
    "It is the way computer store the multidimensional vectors.  In general, there are two ways to do so: (1) Row major order; (2) Column major order.  See an example below:\n",
    "https://en.wikipedia.org/wiki/Row-major_order.\n",
    "Julia uses Column-major order.  "
   ]
  },
  {
   "cell_type": "code",
   "execution_count": 11,
   "metadata": {
    "collapsed": false
   },
   "outputs": [
    {
     "data": {
      "text/plain": [
       "2-element Array{Int64,1}:\n",
       "  1\n",
       " 10"
      ]
     },
     "execution_count": 11,
     "metadata": {},
     "output_type": "execute_result"
    }
   ],
   "source": [
    "function proj(u,v)\n",
    "    return (dot(u,u)/dot(u,u))*u\n",
    "end\n",
    "A = [1 2; 10 50]\n",
    "A[:,1]"
   ]
  },
  {
   "cell_type": "markdown",
   "metadata": {},
   "source": [
    "> ```A[:,1]``` is a column vector and hence, Julia treats it as a one dimensional vector as the type is Array{Int64,1}.  "
   ]
  },
  {
   "cell_type": "code",
   "execution_count": null,
   "metadata": {
    "collapsed": false
   },
   "outputs": [],
   "source": [
    "A[1,:]"
   ]
  },
  {
   "cell_type": "markdown",
   "metadata": {},
   "source": [
    "> Since A[1,:] is a row vector, Julia treats it as a \"two\" dimensional array as the type is Array{Int64,2}."
   ]
  },
  {
   "cell_type": "code",
   "execution_count": null,
   "metadata": {
    "collapsed": false
   },
   "outputs": [],
   "source": [
    "dot(A[1,:], A[2,:]) # will give an error because of the wrong type"
   ]
  },
  {
   "cell_type": "code",
   "execution_count": null,
   "metadata": {
    "collapsed": false
   },
   "outputs": [],
   "source": [
    "dot(A[:,1], A[:,2]) # will be OK!"
   ]
  },
  {
   "cell_type": "markdown",
   "metadata": {},
   "source": [
    "# Gram-Schmidt Process\n",
    "Given a linear independent set $\\{ x_1, x_2, \\dots, x_n\\}$, construct an orthonormal set $\\{ u_1, u_2, \\dots, u_n \\}$.\n",
    "\n",
    "* $v_1 = x_1$\n",
    "* $v_2 = x_2 - proj_{v_1}(x_2)$\n",
    "* $v_3 = x_3 - proj_{v_1}(x_3) - proj_{v_2}(x_3)$\n",
    "* $\\vdots$\n",
    "* $v_n = x_n - \\sum_{i=1}^{n-1} proj_{v_i}(x_n)$\n",
    "\n",
    "Lastly, normalize $v_1, \\dots, v_n$:\n",
    "* $u_i = \\frac{v_i}{\\|v_i\\|_2}$\n",
    "\n"
   ]
  },
  {
   "cell_type": "code",
   "execution_count": 12,
   "metadata": {
    "collapsed": false
   },
   "outputs": [
    {
     "data": {
      "text/plain": [
       "GramSchmidt (generic function with 1 method)"
      ]
     },
     "execution_count": 12,
     "metadata": {},
     "output_type": "execute_result"
    }
   ],
   "source": [
    "function GramSchmidt(X)\n",
    "    #Suppose X is a matrix of size n by m. n is dim of vectors and m is the number of vectors\n",
    "    #Initialize...\n",
    "    OX = zeros(size(X))\n",
    "    nrow, ncol = size(X)\n",
    "    \n",
    "    #First step...\n",
    "    OX[:,1] = X[:,1]\n",
    "    \n",
    "    #Rest of Steps\n",
    "    for i = 2:ncol\n",
    "        tempOX = zeros(nrow)\n",
    "        for j = 1:i-1\n",
    "            tempOX = tempOX + proj(OX[:,j], X[:,i])\n",
    "        end\n",
    "        OX[:,i] = X[:,i] - tempOX\n",
    "    end\n",
    "    \n",
    "    #Normalize\n",
    "    for i = 1:ncol\n",
    "        OX[:,i] = OX[:,i] / norm(OX[:,i])\n",
    "    end\n",
    "    \n",
    "    #Return Orthogonal matrix\n",
    "    return OX\n",
    "end"
   ]
  },
  {
   "cell_type": "code",
   "execution_count": 14,
   "metadata": {
    "collapsed": false
   },
   "outputs": [
    {
     "data": {
      "text/plain": [
       "3x3 Array{Float64,2}:\n",
       " 1.0  0.0  0.0\n",
       " 0.0  1.0  0.0\n",
       " 0.0  0.0  1.0"
      ]
     },
     "execution_count": 14,
     "metadata": {},
     "output_type": "execute_result"
    }
   ],
   "source": [
    "X = [1 1 1; 0 1 1; 0 0 1]\n",
    "GramSchmidt(X)"
   ]
  },
  {
   "cell_type": "markdown",
   "metadata": {},
   "source": [
    "# Newton's Method\n",
    "Newton's method is designed for solving the root of a nonlinear function $F(x)$.  It is an iterative method and can be written as for an inital guess $x_0$,\n",
    "$$x_{i+1} = x_i - [DF(x_i)]^{-1} F(x_i)$$,\n",
    "where $DF$ is the Jacobian matrix of the function $F$."
   ]
  },
  {
   "cell_type": "code",
   "execution_count": 27,
   "metadata": {
    "collapsed": false
   },
   "outputs": [
    {
     "data": {
      "text/plain": [
       "newton (generic function with 1 method)"
      ]
     },
     "execution_count": 27,
     "metadata": {},
     "output_type": "execute_result"
    }
   ],
   "source": [
    "function newton(F, DF, x, TOL)\n",
    "    xp = zeros(size(x))\n",
    "    while norm(F(x)) > TOL && norm(x-xp) > TOL\n",
    "        xp[:] = x[:]\n",
    "        x[:] = x[:] - (DF(x)\\F(x)) # inv is inefficient\n",
    "        println(norm(x-xp, Inf))\n",
    "    end\n",
    "end"
   ]
  },
  {
   "cell_type": "markdown",
   "metadata": {},
   "source": [
    "$$\n",
    "\\begin{cases}\n",
    "3x_1 - \\cos(x_2 x_3) - 0.5 &= 0 \\\\\n",
    "x_1^2 - 81(x_2 + 0.1)^2 + \\sin(x_3) + 1.06 &= 0 \\\\\n",
    "e^{-x_1 x_2} + 20x_3 + (10\\pi -3 )/3 & = 0\n",
    "\\end{cases},\n",
    "$$\n",
    "with the initial guess $x^0 = [0.1 0.1 -0.1]^T$.  \n",
    "\n",
    "The Jacobian matrix $J(x)$ for this system is \n",
    "$$\n",
    "J(x_1, x_2, x_3) =\n",
    "\\begin{bmatrix}\n",
    "3 & x_3 \\sin(x_2 x_3) & x_2 \\sin(x_2 x_3) \\\\\n",
    "2x_1 & -162(x_2 + 0.1) & \\cos(x_3) \\\\\n",
    "-x_2 e^{-x_1 x_2} & -x_1 e^{-x_1 x_2} & 20\n",
    "\\end{bmatrix}\n",
    "$$"
   ]
  },
  {
   "cell_type": "code",
   "execution_count": 28,
   "metadata": {
    "collapsed": false
   },
   "outputs": [
    {
     "data": {
      "text/plain": [
       "DF (generic function with 1 method)"
      ]
     },
     "execution_count": 28,
     "metadata": {},
     "output_type": "execute_result"
    }
   ],
   "source": [
    "function F(x)\n",
    "    return [ 3*x[1] - cos(x[2]*x[3]) - 1/2; x[1]*x[1] - 81*(x[2]+0.1)^2 + sin(x[3])+1.06; \n",
    "        exp(-x[1]*x[2]) + 20*x[3] + (10*pi-3)/3 ]\n",
    "end\n",
    "\n",
    "function DF(x)\n",
    "    mat = [ 3 x[3]*sin(x[2]*x[3]) x[2]*sin(x[2]*x[3]); \n",
    "        2*x[1] -162*(x[2]+0.1) cos(x[3]);\n",
    "        -x[2]*exp(-x[1]*x[2]) -x[1]*exp(-x[1]*x[2]) 20];\n",
    "    return mat\n",
    "end"
   ]
  },
  {
   "cell_type": "code",
   "execution_count": 29,
   "metadata": {
    "collapsed": false
   },
   "outputs": [
    {
     "name": "stdout",
     "output_type": "stream",
     "text": [
      "0.42152047193583064\n",
      "0.017878257167124205\n",
      "0.0015761465869723393\n",
      "1.244400753583079e-5\n",
      "7.757857127143586e-10\n"
     ]
    }
   ],
   "source": [
    "newton(F, DF, [0.1;0.1;-0.1], 1e-12)"
   ]
  },
  {
   "cell_type": "markdown",
   "metadata": {},
   "source": [
    "Good thing about Newton's method:\n",
    "* Quadratic convergence.\n",
    "\n",
    "Things to watch:\n",
    "* Good initial guess.\n",
    "* Jacobian matrix is expensive."
   ]
  },
  {
   "cell_type": "code",
   "execution_count": null,
   "metadata": {
    "collapsed": true
   },
   "outputs": [],
   "source": []
  }
 ],
 "metadata": {
  "kernelspec": {
   "display_name": "Julia 0.4.3",
   "language": "julia",
   "name": "julia-0.4"
  },
  "language_info": {
   "file_extension": ".jl",
   "mimetype": "application/julia",
   "name": "julia",
   "version": "0.4.3"
  }
 },
 "nbformat": 4,
 "nbformat_minor": 0
}
