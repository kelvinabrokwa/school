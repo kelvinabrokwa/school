{
 "cells": [
  {
   "cell_type": "markdown",
   "metadata": {},
   "source": [
    "# Kelvin Abrokwa Johnson\n",
    "## Homework 6"
   ]
  },
  {
   "cell_type": "markdown",
   "metadata": {},
   "source": [
    "# 7c.\n",
    "\n",
    "Use Newton's method to find a solution to the following nonlinear system in the given domain. Iterate until  $|| x^{(k)} - x^{(k-1)} ||_\\infty < 10^{-5}$.\n",
    "\n",
    "$$\n",
    "x^3_1 + x^2_1 x_2 - x_1 x_3 + 6 = 0 \\\\\n",
    "e^{x_1} + e^{x_2} - x_3 = 0 \\\\\n",
    "x^2_2 - 2x_1 x_3 = 4\n",
    "$$\n",
    "\n",
    "$x^{(0)} = (-1, -2, 1)^t$"
   ]
  },
  {
   "cell_type": "code",
   "execution_count": null,
   "metadata": {
    "collapsed": false
   },
   "outputs": [],
   "source": [
    "function newton(F, DF, x, TOL)\n",
    "    xp = zeros(size(x))\n",
    "    while norm(F(x)) > TOL && norm(x-xp) > TOL\n",
    "        xp[:] = x[:]\n",
    "        x[:] = x[:] - (DF(x)\\F(x)) # inv is inefficient\n",
    "        #println(norm(x-xp, Inf))\n",
    "    end\n",
    "    return x\n",
    "end"
   ]
  },
  {
   "cell_type": "code",
   "execution_count": 4,
   "metadata": {
    "collapsed": true
   },
   "outputs": [],
   "source": [
    "function F(x)\n",
    "    return [\n",
    "        x[1]^3 + (x[1]^2)*x[2] - x[1]*x[3] + 6;\n",
    "        e^(x[1]) + e^(x[2]) - x[3];\n",
    "        x[2]^2 - 2*x[1]*x[3] - 4;\n",
    "    ];\n",
    "end\n",
    "\n",
    "function DF(x)\n",
    "    return [\n",
    "        3*(x[1]^2)+2*x[1]*x[2]-x[3] x[1]^2 -x[1];\n",
    "        e^(x[1]) e^(x[2]) -1;\n",
    "        -2*x[3] 2*x[2] -2x[1]\n",
    "        ];\n",
    "end\n",
    "\n",
    "x0 = [-1.0; -2; 1];\n",
    "TOL = 1e-5;"
   ]
  },
  {
   "cell_type": "code",
   "execution_count": 6,
   "metadata": {
    "collapsed": false
   },
   "outputs": [
    {
     "name": "stdout",
     "output_type": "stream",
     "text": [
      "[-1.4560427975108896,-1.6642304663744762,0.4224934033946674]\n"
     ]
    }
   ],
   "source": [
    "println(newton(F, DF, x0, TOL));"
   ]
  },
  {
   "cell_type": "markdown",
   "metadata": {},
   "source": [
    "## 10.2.8b\n",
    "\n",
    "The nonlinear system\n",
    "\n",
    "$$\n",
    "E_1: 4x_1 - x_2 + x_3 =  x_1 x_4 \\\\\n",
    "E_2: -x_1 + 3x_2 - 2x_3 = x_2 x_4 \\\\\n",
    "E_3: x_1 - 2x_2 + 3x_3 = _3 x_4 \\\\\n",
    "E_4: x_1^2 + x_2^2 + x_3^2 = 1\n",
    "$$\n",
    "\n",
    "has 6 solutions.\n",
    "\n",
    "Use Newton’s method three times to approximate all solutions. Iterate until $|| x^{(k)} - x^{(k-1)} ||_\\infty < 10^{-5}$."
   ]
  },
  {
   "cell_type": "code",
   "execution_count": 23,
   "metadata": {
    "collapsed": true
   },
   "outputs": [],
   "source": [
    "function F(x)\n",
    "    return [\n",
    "        4*x[1] - x[2] + x[3] - x[1]*x[4];\n",
    "        -x[1] + 3*x[2] - 2*x[3] - x[2]*x[4];\n",
    "        x[1] - 2*x[2] + 3*x[3] - x[3]*x[4];\n",
    "        x[1]^2 + x[2]^2 + x[3]^2 - 1;\n",
    "    ];\n",
    "end\n",
    "function DF(x)\n",
    "    return [\n",
    "        4-x[4] -1 1 -x[1];\n",
    "        -1 3+x[4] -2 -x[2];\n",
    "        1 -2 3-x[4] -x[4];\n",
    "        2*x[1] 2*x[2] 2*x[3] 0;\n",
    "    ];\n",
    "\n",
    "end\n",
    "TOL = 1e-5;"
   ]
  },
  {
   "cell_type": "code",
   "execution_count": 24,
   "metadata": {
    "collapsed": false
   },
   "outputs": [
    {
     "name": "stdout",
     "output_type": "stream",
     "text": [
      "[0.0,0.0,0.0,0.0]\n",
      "[1.400304323969495e-7,0.7071069912296297,0.7071065711445794,1.000003337346208]\n",
      "[-1.219364611467354e-8,0.7071067628861214,0.707106799499683,1.000007583247942]\n"
     ]
    }
   ],
   "source": [
    "println(newton(F, DF, [0.0; 0; 0; 0], TOL));\n",
    "println(newton(F, DF, [1.0; 1; 1; 1], TOL));\n",
    "println(newton(F, DF, [1.0; 2; 3; 4], TOL));"
   ]
  },
  {
   "cell_type": "markdown",
   "metadata": {},
   "source": [
    "## i."
   ]
  },
  {
   "cell_type": "markdown",
   "metadata": {},
   "source": [
    "![](svd_plot.jpg)"
   ]
  },
  {
   "cell_type": "markdown",
   "metadata": {},
   "source": [
    "## ii."
   ]
  },
  {
   "cell_type": "markdown",
   "metadata": {},
   "source": [
    "## Matlab\n",
    "Need:\n",
    "- 167 modes to retain 95% variance (95.09%)\n",
    "- 227 modes to retain 99% variance (99.02%)"
   ]
  }
 ],
 "metadata": {
  "kernelspec": {
   "display_name": "Julia 0.4.3",
   "language": "julia",
   "name": "julia-0.4"
  },
  "language_info": {
   "file_extension": ".jl",
   "mimetype": "application/julia",
   "name": "julia",
   "version": "0.4.3"
  }
 },
 "nbformat": 4,
 "nbformat_minor": 0
}
