{
 "cells": [
  {
   "cell_type": "markdown",
   "metadata": {},
   "source": [
    "#1. SPD Matrices and $LDL^t$ Factorization"
   ]
  },
  {
   "cell_type": "markdown",
   "metadata": {},
   "source": [
    "Given an SPD matrix $A$, it can be factorized into $LDL^T$, where $L$ is an unitary lower triangular matrix and $D$ is a diagonal matrix.  To construct the factorization, we follow the Algorithm 6.5 on page 417:\n",
    "* Do i = 1, ..., n\n",
    "  * (Step2): For $j = 1,\\dots, i-1$, set $v_j = l_{ij}d_j$ \n",
    "  * (Step3): Set $d_i = a_{ii} - \\displaystyle\\sum_{j=1}^{i-1} l_{ij}v_j$ \n",
    "  * (Step4): For $j = i+1, \\dots, n$, set $l_{ji} = \\big( a_{ji} - \\displaystyle\\sum_{k=1}^{i-1}l_{jk}v_k \\big) /d_i$"
   ]
  },
  {
   "cell_type": "code",
   "execution_count": 5,
   "metadata": {
    "collapsed": false
   },
   "outputs": [
    {
     "data": {
      "text/plain": [
       "LDLt (generic function with 1 method)"
      ]
     },
     "execution_count": 5,
     "metadata": {},
     "output_type": "execute_result"
    }
   ],
   "source": [
    "function LDLt(A)\n",
    "    #Given an SPD matrix A_{n, n}\n",
    "    #Output L and D\n",
    "    n, n1 = size(A)\n",
    "    v = zeros(n,1)\n",
    "    L = eye(n)\n",
    "    d = zeros(n,1)\n",
    "    for i = 1:n\n",
    "        # step 2\n",
    "        for j = 1:i-1\n",
    "            v[j] = L[i,j] * d[j]\n",
    "        end\n",
    "        \n",
    "        # step 3\n",
    "        temp = 0\n",
    "        for j = 1:i-1\n",
    "            temp = temp + L[i,j] * v[j]\n",
    "        end\n",
    "        d[i] = A[i,i] - temp\n",
    "        \n",
    "        #step 4\n",
    "        for j = i+1:n\n",
    "            temp = 0\n",
    "            for k = 1:i-1\n",
    "                temp = temp + L[j,k] * v[k]\n",
    "            end\n",
    "            L[j,i] = (A[j,i] - temp) / d[i]\n",
    "        end\n",
    "    end\n",
    "    return L, d\n",
    "end"
   ]
  },
  {
   "cell_type": "markdown",
   "metadata": {},
   "source": [
    "Test the code on Example 3 on page 418:\n",
    "$$A =\n",
    "\\begin{pmatrix}\n",
    "4 & -1 & 1 \\\\\n",
    "-1 & 4.25 & 2.75 \\\\\n",
    "1 & 2.75 & 3.5\n",
    "\\end{pmatrix}\n",
    ",\n",
    "$$\n",
    "and its $LDL^t$ factorization is\n",
    "$$L = \n",
    "\\begin{pmatrix}\n",
    "1 & 0 & 0 \\\\\n",
    "-0.25 & 1 & 0 \\\\\n",
    "0.25 & 0.75 & 1\n",
    "\\end{pmatrix}\n",
    "\\quad\n",
    "D = \n",
    "\\begin{pmatrix}\n",
    "4 & 0 & 0 \\\\\n",
    "0 & 4 & 0 \\\\\n",
    "0 & 0 & 1\n",
    "\\end{pmatrix}\n",
    ".\n",
    "$$"
   ]
  },
  {
   "cell_type": "code",
   "execution_count": 6,
   "metadata": {
    "collapsed": false
   },
   "outputs": [
    {
     "data": {
      "text/plain": [
       "(\n",
       "3x3 Array{Float64,2}:\n",
       "  1.0   0.0   0.0\n",
       " -0.25  1.0   0.0\n",
       "  0.25  0.75  1.0,\n",
       "\n",
       "3x1 Array{Float64,2}:\n",
       " 4.0\n",
       " 4.0\n",
       " 1.0)"
      ]
     },
     "execution_count": 6,
     "metadata": {},
     "output_type": "execute_result"
    }
   ],
   "source": [
    "A = [4 -1 1; -1 4.25 2.75; 1 2.75 3.5]\n",
    "LDLt(A)"
   ]
  },
  {
   "cell_type": "markdown",
   "metadata": {},
   "source": [
    "#2. Tridiagonal Matrix\n",
    "Tridiagonal matrix can be factorized into $LU$, where $L$ is a lower triangular matrix, $U$ is an unitary upper triangular matrix, and both of them have tridiagonal form.\n",
    "* $l_{11} = a_{11}$\n",
    "* $u_{12} = a_{12}/l_{11}$\n",
    "* Do i = 2, ..., n-1\n",
    "  * $l_{i, i-1} = a_{i,i-1}$\n",
    "  * $l_{ii} = a_{ii} - l_{i,i-1} u_{i-1, i}$\n",
    "  * $u_{i,i+1} = a_{i, i+1}/l_{ii}$\n",
    "* $l_{n,n-1} = a_{n,n-1}$\n",
    "* $l_{n,n} = a_{nn} - l_{n,n-1} u_{n-1,n}$"
   ]
  },
  {
   "cell_type": "code",
   "execution_count": 10,
   "metadata": {
    "collapsed": false
   },
   "outputs": [
    {
     "data": {
      "text/plain": [
       "tridiagLU (generic function with 1 method)"
      ]
     },
     "execution_count": 10,
     "metadata": {},
     "output_type": "execute_result"
    }
   ],
   "source": [
    "function tridiagLU(A)\n",
    "    n, n1 = size(A)\n",
    "    L = zeros(n,n)\n",
    "    U = eye(n)\n",
    "    L[1,1] = A[1,1]\n",
    "    U[1,2] = A[1,2] / L[1,1]\n",
    "    for i = 2:n-1\n",
    "        L[i, i-1] = A[i,i-1]\n",
    "        L[i,i] = A[i,i] - L[i,i-1] * U[i-1,i]\n",
    "        U[i,i+1] = A[i,i+1] / L[i,i]\n",
    "    end\n",
    "    L[n,n-1] = A[n,n-1]\n",
    "    L[n,n] =  A[n,n] - L[n,n-1]* U[n-1,n]\n",
    "    return L, U\n",
    "end"
   ]
  },
  {
   "cell_type": "markdown",
   "metadata": {},
   "source": [
    "Test it on Example 5 on page 423:\n",
    "$$\n",
    "T = \n",
    "\\begin{pmatrix}\n",
    "2 & -1 & 0 & 0 \\\\\n",
    "-1 & 2 & -1& 0 \\\\\n",
    "0 & -1 & 2 & -1 \\\\\n",
    "0 & 0 & -1 & 2\n",
    "\\end{pmatrix}\n",
    "$$\n",
    "and its LU factorization is \n",
    "$$\n",
    "L = \n",
    "\\begin{pmatrix}\n",
    "2 & 0 & 0 & 0 \\\\\n",
    "-1 & \\frac{3}{2} & 0 & 0 \\\\\n",
    "0 & -1 & \\frac{4}{3} & 0 \\\\\n",
    "0 & 0 & -1 & \\frac{5}{4}\n",
    "\\end{pmatrix}\n",
    ",\\quad\n",
    "U = \n",
    "\\begin{pmatrix}\n",
    "1 & -\\frac{1}{2} & 0 & 0 \\\\\n",
    "0 & 1 & -\\frac{2}{3} & 0 \\\\\n",
    "0 & 0 & 1 & -\\frac{3}{4} \\\\\n",
    "0 & 0 & 0 & 1\n",
    "\\end{pmatrix}.\n",
    "$$"
   ]
  },
  {
   "cell_type": "code",
   "execution_count": 11,
   "metadata": {
    "collapsed": false
   },
   "outputs": [
    {
     "data": {
      "text/plain": [
       "(\n",
       "4x4 Array{Float64,2}:\n",
       "  2.0   0.0   0.0      0.0 \n",
       " -1.0   1.5   0.0      0.0 \n",
       "  0.0  -1.0   1.33333  0.0 \n",
       "  0.0   0.0  -1.0      1.25,\n",
       "\n",
       "4x4 Array{Float64,2}:\n",
       " 1.0  -0.5   0.0        0.0 \n",
       " 0.0   1.0  -0.666667   0.0 \n",
       " 0.0   0.0   1.0       -0.75\n",
       " 0.0   0.0   0.0        1.0 )"
      ]
     },
     "execution_count": 11,
     "metadata": {},
     "output_type": "execute_result"
    }
   ],
   "source": [
    "T = [2 -1 0 0; -1 2 -1 0; 0 -1 2 -1; 0 0 -1 2]\n",
    "tridiagLU(T)"
   ]
  },
  {
   "cell_type": "markdown",
   "metadata": {},
   "source": [
    "#3. Jacobi's Method\n",
    "The Jacobi's iterative method is to find the solution of $Ax=b$, and can be written as for given $x^{(0)}$,\n",
    "$$x^{(k)}_i = \\frac{1}{a_{ii}} \\big[ \\sum_{j=1,\\;j\\ne i}^{n} (-a_{ij}x^{(k-1)}_{j}) + b_i \\big]$$, or equivalently\n",
    "$$x^{(k)}_i = \\frac{1}{a_{ii}} \\big[ \\sum_{j=1}^{i-1} (-a_{ij}x^{(k-1)}_{j}) + \\sum_{j=i+1}^{n} (-a_{ij}x^{(k-1)}_{j}) + b_i \\big].$$"
   ]
  },
  {
   "cell_type": "markdown",
   "metadata": {},
   "source": [
    "> Note that super-script, k, represents the iteration numbers, and sub-script, i, represents the i-th entry of x."
   ]
  },
  {
   "cell_type": "code",
   "execution_count": 16,
   "metadata": {
    "collapsed": false
   },
   "outputs": [
    {
     "data": {
      "text/plain": [
       "jacobi (generic function with 1 method)"
      ]
     },
     "execution_count": 16,
     "metadata": {},
     "output_type": "execute_result"
    }
   ],
   "source": [
    "function jacobi(A,b, x0, TOL, Nmax)\n",
    "    n, n1 = size(A)\n",
    "    x = zeros(n,1)\n",
    "    for k = 1:Nmax\n",
    "        for i = 1:n\n",
    "            temp1 = 0\n",
    "            for j = 1:i-1\n",
    "                temp1 = temp1 + A[i,j] * x0[j]\n",
    "            end\n",
    "            \n",
    "            temp2 = 0\n",
    "            for j = i+1:n\n",
    "                temp2 = temp2 + A[i,j] * x0[j]\n",
    "            end\n",
    "            \n",
    "            x[i] = (-temp1 - temp2 + b[i]) /  A[i,i]\n",
    "        end\n",
    "        res = norm(x - x0)\n",
    "        println(k, '\\t', res)\n",
    "        if res < TOL\n",
    "            return x\n",
    "        end\n",
    "        x0[1:n] = x[1:n]\n",
    "    end\n",
    "    println(\"Reach the maximum iterations! Solution might be wrong\")\n",
    "end"
   ]
  },
  {
   "cell_type": "markdown",
   "metadata": {},
   "source": [
    "Test it on Example 1 on page 451.  The linear system $Ax = b$ is given by\n",
    "$$\n",
    "\\begin{cases}\n",
    " &10x_1 - x_2 + 2x_3 &= 6,\\\\\n",
    " &-x_1 + 11x_2 - x_3 + 3x_4 &= 25,\\\\\n",
    " &2x_1 - x_2 + 10x_3 - x_4 &= -11,\\\\\n",
    " & 3x_2 - x_3 + 8x_4 &=15\n",
    "\\end{cases}\n",
    ",\n",
    "$$\n",
    "and the exact solution is $(1, 2, -1, 1)$."
   ]
  },
  {
   "cell_type": "code",
   "execution_count": 17,
   "metadata": {
    "collapsed": false
   },
   "outputs": [
    {
     "name": "stdout",
     "output_type": "stream",
     "text": [
      "1\t"
     ]
    },
    {
     "data": {
      "text/plain": [
       "4x1 Array{Float64,2}:\n",
       "  1.0\n",
       "  2.0\n",
       " -1.0\n",
       "  1.0"
      ]
     },
     "execution_count": 17,
     "metadata": {},
     "output_type": "execute_result"
    },
    {
     "name": "stdout",
     "output_type": "stream",
     "text": [
      "3.201704898362488\n",
      "2\t1.2556434177591917\n",
      "3\t0.49690551414887585\n",
      "4\t0.2190851701672345\n",
      "5\t0.0897453205646942\n",
      "6\t0.03927457310200085\n",
      "7\t0.01632327649212943\n",
      "8\t0.007087147155725075\n",
      "9\t0.00297279906969194\n",
      "10\t0.0012831613556189962\n",
      "11\t0.0005414124462407633\n",
      "12\t0.0002327443731639058\n",
      "13\t9.857302867807452e-5\n",
      "14\t4.225903498255565e-5\n",
      "15\t1.794098892760319e-5\n",
      "16\t7.677445137551283e-6\n",
      "17\t3.2645209738750824e-6\n",
      "18\t1.395299610258743e-6\n",
      "19\t5.938924510776512e-7\n",
      "20\t2.536369041495742e-7\n",
      "21\t1.0802811616549007e-7\n",
      "22\t4.611225048507366e-8\n",
      "23\t1.9648317139180354e-8\n",
      "24\t8.384120565886267e-9\n"
     ]
    }
   ],
   "source": [
    "A1 = [10 -1 2 0; -1 11 -1 3; 2 -1 10 -1; 0 3 -1 8]\n",
    "b = [6;25;-11;15]\n",
    "jacobi(A1, b, zeros(4,1), 1e-8, 100)"
   ]
  },
  {
   "cell_type": "markdown",
   "metadata": {},
   "source": [
    "#4. Gauss-Seidel Method\n",
    "The GS method can be written as\n",
    "$$x^{(k)} = \\frac{1}{a_{ii}} \\big[ \\sum_{j=1}^{i-1} (-a_{ij}x^{(k)}_{j}) + \\sum_{j=i+1}^{n} (-a_{ij}x^{(k-1)}_{j}) + b_i \\big].$$"
   ]
  },
  {
   "cell_type": "code",
   "execution_count": 18,
   "metadata": {
    "collapsed": false
   },
   "outputs": [
    {
     "data": {
      "text/plain": [
       "GS (generic function with 1 method)"
      ]
     },
     "execution_count": 18,
     "metadata": {},
     "output_type": "execute_result"
    }
   ],
   "source": [
    "function GS(A,b, x0, TOL, Nmax)\n",
    "    n, n1 = size(A)\n",
    "    x = zeros(n,1)\n",
    "    for k = 1:Nmax\n",
    "        for i = 1:n\n",
    "            temp1 = 0\n",
    "            for j = 1:i-1\n",
    "                temp1 = temp1 + A[i,j] * x[j]\n",
    "            end\n",
    "            \n",
    "            temp2 = 0\n",
    "            for j = i+1:n\n",
    "                temp2 = temp2 + A[i,j] * x0[j]\n",
    "            end\n",
    "            \n",
    "            x[i] = (-temp1 - temp2 + b[i]) /  A[i,i]\n",
    "        end\n",
    "        res = norm(x - x0)\n",
    "        println(k, '\\t', res)\n",
    "        if res < TOL\n",
    "            return x\n",
    "        end\n",
    "        x0[1:n] = x[1:n]\n",
    "    end\n",
    "    println(\"Reach the maximum iterations! Solution might be wrong\")\n",
    "end"
   ]
  },
  {
   "cell_type": "code",
   "execution_count": 19,
   "metadata": {
    "collapsed": false
   },
   "outputs": [
    {
     "name": "stdout",
     "output_type": "stream",
     "text": [
      "1\t"
     ]
    },
    {
     "data": {
      "text/plain": [
       "4x1 Array{Float64,2}:\n",
       "  1.0\n",
       "  2.0\n",
       " -1.0\n",
       "  1.0"
      ]
     },
     "execution_count": 19,
     "metadata": {},
     "output_type": "execute_result"
    },
    {
     "name": "stdout",
     "output_type": "stream",
     "text": [
      "2.742864757228523\n",
      "2\t0.5302971831879821\n",
      "3\t0.044830810568892175\n",
      "4\t0.007109620693563844\n",
      "5\t0.0008743589512862559\n",
      "6\t9.062087893677911e-5\n",
      "7\t8.219392165061605e-6\n",
      "8\t6.539341072741501e-7\n",
      "9\t4.4233701694032134e-8\n",
      "10\t2.3482754714404746e-9\n"
     ]
    }
   ],
   "source": [
    "GS(A1, b, zeros(4,1), 1e-8, 100)"
   ]
  },
  {
   "cell_type": "code",
   "execution_count": null,
   "metadata": {
    "collapsed": true
   },
   "outputs": [],
   "source": []
  }
 ],
 "metadata": {
  "kernelspec": {
   "display_name": "Julia 0.4.3",
   "language": "julia",
   "name": "julia-0.4"
  },
  "language_info": {
   "file_extension": ".jl",
   "mimetype": "application/julia",
   "name": "julia",
   "version": "0.4.3"
  }
 },
 "nbformat": 4,
 "nbformat_minor": 0
}
