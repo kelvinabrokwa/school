{
 "cells": [
  {
   "cell_type": "markdown",
   "metadata": {},
   "source": [
    "#1. SPD Matrices and $LDL^t$ Factorization"
   ]
  },
  {
   "cell_type": "markdown",
   "metadata": {},
   "source": [
    "Given an SPD matrix $A$, it can be factorized into $LDL^T$, where $L$ is an unitary lower triangular matrix and $D$ is a diagonal matrix.  To construct the factorization, we follow the Algorithm 6.5 on page 417:\n",
    "* Do i = 1, ..., n\n",
    "  * (Step2): For $j = 1,\\dots, i-1$, set $v_j = l_{ij}d_j$ \n",
    "  * (Step3): Set $d_i = a_{ii} - \\displaystyle\\sum_{j=1}^{i-1} l_{ij}v_j$ \n",
    "  * (Step4): For $j = i+1, \\dots, n$, set $l_{ji} = \\big( a_{ji} - \\displaystyle\\sum_{k=1}^{i-1}l_{jk}v_k \\big) /d_i$"
   ]
  },
  {
   "cell_type": "code",
   "execution_count": null,
   "metadata": {
    "collapsed": false
   },
   "outputs": [],
   "source": [
    "function LDLt(A)\n",
    "    # Given an SPD matrix A_{n, n}\n",
    "    # Output L and D\n",
    "    n, n1 = size(A)\n",
    "    v = zeros(n,1)\n",
    "    L = eye(n)\n",
    "    d = zeros(n,1)\n",
    "    for i = 1:n\n",
    "        # step 2\n",
    "        for j = 1:i-1\n",
    "            v[j] = L[i,j] * d[j]\n",
    "        end\n",
    "        \n",
    "        # step 3\n",
    "        temp = 0\n",
    "        for j = 1:i-1\n",
    "            temp = temp + L[i,j] * v[j]\n",
    "        end\n",
    "        d[i] = A[i,i] - temp\n",
    "        \n",
    "        #step 4\n",
    "        for j = i+1:n\n",
    "            temp = 0\n",
    "            for k = 1:i-1\n",
    "                temp = temp + L[j,k] * v[k]\n",
    "            end\n",
    "            L[j,i] = (A[j,i] - temp) / d[i]\n",
    "        end\n",
    "    end\n",
    "    return L, d\n",
    "end"
   ]
  },
  {
   "cell_type": "markdown",
   "metadata": {},
   "source": [
    "Test the code on Example 3 on page 418:\n",
    "$$A =\n",
    "\\begin{pmatrix}\n",
    "4 & -1 & 1 \\\\\n",
    "-1 & 4.25 & 2.75 \\\\\n",
    "1 & 2.75 & 3.5\n",
    "\\end{pmatrix}\n",
    ",\n",
    "$$\n",
    "and its $LDL^t$ factorization is\n",
    "$$L = \n",
    "\\begin{pmatrix}\n",
    "1 & 0 & 0 \\\\\n",
    "-0.25 & 1 & 0 \\\\\n",
    "0.25 & 0.75 & 1\n",
    "\\end{pmatrix}\n",
    "\\quad\n",
    "D = \n",
    "\\begin{pmatrix}\n",
    "4 & 0 & 0 \\\\\n",
    "0 & 4 & 0 \\\\\n",
    "0 & 0 & 1\n",
    "\\end{pmatrix}\n",
    ".\n",
    "$$"
   ]
  },
  {
   "cell_type": "code",
   "execution_count": null,
   "metadata": {
    "collapsed": false
   },
   "outputs": [],
   "source": [
    "A = [4 -1 1; -1 4.25 2.75; 1 2.75 3.5]\n",
    "LDLt(A)"
   ]
  },
  {
   "cell_type": "markdown",
   "metadata": {},
   "source": [
    "#2. Tridiagonal Matrix\n",
    "Tridiagonal matrix can be factorized into $LU$, where $L$ is a lower triangular matrix, $U$ is an unitary upper triangular matrix, and both of them have tridiagonal form.\n",
    "* $l_{11} = a_{11}$\n",
    "* $u_{12} = a_{12}/l_{11}$\n",
    "* Do i = 2, ..., n-1\n",
    "  * $l_{i, i-1} = a_{i,i-1}$\n",
    "  * $l_{ii} = a_{ii} - l_{i,i-1} u_{i-1, i}$\n",
    "  * $u_{i,i+1} = a_{i, i+1}/l_{ii}$\n",
    "* $l_{n,n-1} = a_{n,n-1}$\n",
    "* $l_{n,n} = a_{nn} - l_{n,n-1} u_{n-1,n}$"
   ]
  },
  {
   "cell_type": "code",
   "execution_count": null,
   "metadata": {
    "collapsed": false
   },
   "outputs": [],
   "source": [
    "function tridiagLU(A)\n",
    "    n, n1 = size(A)\n",
    "    L = zeros(n,n)\n",
    "    U = eye(n)\n",
    "    L[1,1] = A[1,1]\n",
    "    U[1,2] = A[1,2] / L[1,1]\n",
    "    for i = 2:n-1\n",
    "        L[i, i-1] = A[i,i-1]\n",
    "        L[i,i] = A[i,i] - L[i,i-1] * U[i-1,i]\n",
    "        U[i,i+1] = A[i,i+1] / L[i,i]\n",
    "    end\n",
    "    L[n,n-1] = A[n,n-1]\n",
    "    L[n,n] =  A[n,n] - L[n,n-1]* U[n-1,n]\n",
    "    return L, U\n",
    "end"
   ]
  },
  {
   "cell_type": "markdown",
   "metadata": {},
   "source": [
    "Test it on Example 5 on page 423:\n",
    "$$\n",
    "T = \n",
    "\\begin{pmatrix}\n",
    "2 & -1 & 0 & 0 \\\\\n",
    "-1 & 2 & -1& 0 \\\\\n",
    "0 & -1 & 2 & -1 \\\\\n",
    "0 & 0 & -1 & 2\n",
    "\\end{pmatrix}\n",
    "$$\n",
    "and its LU factorization is \n",
    "$$\n",
    "L = \n",
    "\\begin{pmatrix}\n",
    "2 & 0 & 0 & 0 \\\\\n",
    "-1 & \\frac{3}{2} & 0 & 0 \\\\\n",
    "0 & -1 & \\frac{4}{3} & 0 \\\\\n",
    "0 & 0 & -1 & \\frac{5}{4}\n",
    "\\end{pmatrix}\n",
    ",\\quad\n",
    "U = \n",
    "\\begin{pmatrix}\n",
    "1 & -\\frac{1}{2} & 0 & 0 \\\\\n",
    "0 & 1 & -\\frac{2}{3} & 0 \\\\\n",
    "0 & 0 & 1 & -\\frac{3}{4} \\\\\n",
    "0 & 0 & 0 & 1\n",
    "\\end{pmatrix}.\n",
    "$$"
   ]
  },
  {
   "cell_type": "code",
   "execution_count": null,
   "metadata": {
    "collapsed": false
   },
   "outputs": [],
   "source": [
    "T = [2 -1 0 0; -1 2 -1 0; 0 -1 2 -1; 0 0 -1 2]\n",
    "tridiagLU(T)"
   ]
  },
  {
   "cell_type": "markdown",
   "metadata": {},
   "source": [
    "#3. Jacobi's Method\n",
    "The Jacobi's iterative method is to find the solution of $Ax=b$, and can be written as for given $x^{(0)}$,\n",
    "$$x^{(k)}_i = \\frac{1}{a_{ii}} \\big[ \\sum_{j=1,\\;j\\ne i}^{n} (-a_{ij}x^{(k-1)}_{j}) + b_i \\big]$$, or equivalently\n",
    "$$x^{(k)}_i = \\frac{1}{a_{ii}} \\big[ \\sum_{j=1}^{i-1} (-a_{ij}x^{(k-1)}_{j}) + \\sum_{j=i+1}^{n} (-a_{ij}x^{(k-1)}_{j}) + b_i \\big].$$"
   ]
  },
  {
   "cell_type": "markdown",
   "metadata": {},
   "source": [
    "> Note that super-script, k, represents the iteration numbers, and sub-script, i, represents the i-th entry of x."
   ]
  },
  {
   "cell_type": "code",
   "execution_count": null,
   "metadata": {
    "collapsed": false
   },
   "outputs": [],
   "source": [
    "function jacobi(A,b, x0, TOL, Nmax)\n",
    "    n, n1 = size(A)\n",
    "    x = zeros(n,1)\n",
    "    for k = 1:Nmax\n",
    "        for i = 1:n\n",
    "            temp1 = 0\n",
    "            for j = 1:i-1\n",
    "                temp1 = temp1 + A[i,j] * x0[j]\n",
    "            end\n",
    "            \n",
    "            temp2 = 0\n",
    "            for j = i+1:n\n",
    "                temp2 = temp2 + A[i,j] * x0[j]\n",
    "            end\n",
    "            \n",
    "            x[i] = (-temp1 - temp2 + b[i]) /  A[i,i]\n",
    "        end\n",
    "        res = norm(x - x0, Inf)\n",
    "        #println(k, '\\t', res)\n",
    "        if res < TOL\n",
    "            return x\n",
    "        end\n",
    "        x0[1:n] = x[1:n]\n",
    "    end\n",
    "    println(\"Reach the maximum iterations! Solution might be wrong\")\n",
    "end"
   ]
  },
  {
   "cell_type": "markdown",
   "metadata": {},
   "source": [
    "Test it on Example 1 on page 451.  The linear system $Ax = b$ is given by\n",
    "$$\n",
    "\\begin{cases}\n",
    " &10x_1 - x_2 + 2x_3 &= 6,\\\\\n",
    " &-x_1 + 11x_2 - x_3 + 3x_4 &= 25,\\\\\n",
    " &2x_1 - x_2 + 10x_3 - x_4 &= -11,\\\\\n",
    " & 3x_2 - x_3 + 8x_4 &=15\n",
    "\\end{cases}\n",
    ",\n",
    "$$\n",
    "and the exact solution is $(1, 2, -1, 1)$."
   ]
  },
  {
   "cell_type": "code",
   "execution_count": null,
   "metadata": {
    "collapsed": false
   },
   "outputs": [],
   "source": [
    "A1 = [10 -1 2 0; -1 11 -1 3; 2 -1 10 -1; 0 3 -1 8]\n",
    "b = [6;25;-11;15]\n",
    "jacobi(A1, b, zeros(4,1), 1e-8, 100)"
   ]
  },
  {
   "cell_type": "markdown",
   "metadata": {},
   "source": [
    "#4. Gauss-Seidel Method\n",
    "The GS method can be written as\n",
    "$$x^{(k)} = \\frac{1}{a_{ii}} \\big[ \\sum_{j=1}^{i-1} (-a_{ij}x^{(k)}_{j}) + \\sum_{j=i+1}^{n} (-a_{ij}x^{(k-1)}_{j}) + b_i \\big].$$"
   ]
  },
  {
   "cell_type": "code",
   "execution_count": null,
   "metadata": {
    "collapsed": false
   },
   "outputs": [],
   "source": [
    "function GS(A, b, x0, TOL, Nmax)\n",
    "    n, n1 = size(A)\n",
    "    x = zeros(n,1)\n",
    "    for k = 1:Nmax\n",
    "        for i = 1:n\n",
    "            temp1 = 0\n",
    "            for j = 1:i-1\n",
    "                temp1 = temp1 + A[i,j] * x[j]\n",
    "            end\n",
    "            \n",
    "            temp2 = 0\n",
    "            for j = i+1:n\n",
    "                temp2 = temp2 + A[i,j] * x0[j]\n",
    "            end\n",
    "            \n",
    "            x[i] = ((-temp1) - temp2 + b[i]) /  A[i,i]\n",
    "        end\n",
    "        res = norm(x - x0, Inf) # make sure calculating inf norm\n",
    "        #println(k, '\\t', res)\n",
    "        if res < TOL\n",
    "            return x\n",
    "        end\n",
    "        x0[1:n] = x[1:n]\n",
    "    end\n",
    "    println(\"Reach the maximum iterations! Solution might be wrong\")\n",
    "end"
   ]
  },
  {
   "cell_type": "code",
   "execution_count": null,
   "metadata": {
    "collapsed": false
   },
   "outputs": [],
   "source": [
    "GS(A1, b, zeros(4,1), 1e-8, 100)"
   ]
  },
  {
   "cell_type": "code",
   "execution_count": null,
   "metadata": {
    "collapsed": false
   },
   "outputs": [],
   "source": [
    "# 7.3.9b\n",
    "# Show that the Jacobi method with x^(0) = 0 fails to give a good approximation after 25 iterations.\n",
    "A_9 = [\n",
    "    2 -1 1;\n",
    "    2 2 2;\n",
    "    -1 -1 2\n",
    "]\n",
    "b_9 = [-1; 4; -5]\n",
    "x0 = zeros(3,1)\n",
    "TOL = 0.01\n",
    "Nmax = 25\n",
    "x_j = jacobi(A_9, b_9, x0, TOL, Nmax)\n",
    "println(x_j)\n",
    "x_gs = GS(A_9, b_9, x0, TOL, Nmax)\n",
    "println(x_gs)"
   ]
  },
  {
   "cell_type": "markdown",
   "metadata": {},
   "source": [
    "Residual is increasing"
   ]
  },
  {
   "cell_type": "code",
   "execution_count": null,
   "metadata": {
    "collapsed": false
   },
   "outputs": [],
   "source": [
    "# 7.3.9d\n",
    "A = [2 -1 1; 2 2 2; -1 -1 2]\n",
    "b = [-1; 4; -5]\n",
    "x0 = zeros(3,1)\n",
    "TOL = 1e-5\n",
    "Nmax = 100\n",
    "x2 = GS(A, b, x0, TOL, Nmax)"
   ]
  },
  {
   "cell_type": "markdown",
   "metadata": {},
   "source": []
  },
  {
   "cell_type": "code",
   "execution_count": 126,
   "metadata": {
    "collapsed": false
   },
   "outputs": [],
   "source": [
    "# 7.3.15\n",
    "A_15 = zeros(80,80)\n",
    "for i = 1:80\n",
    "    A_15[i,i] = 2*i\n",
    "    if i + 2 <= 80\n",
    "        A_15[i, i+2] = 0.5*i\n",
    "    end\n",
    "    if i - 2 >= 1\n",
    "        A_15[i, i-2] = 0.5*i\n",
    "    end\n",
    "    if i + 4 <= 80\n",
    "        A_15[i, i+4] = 0.25*i\n",
    "    end\n",
    "    if i - 4 >= 1\n",
    "        A_15[i, i-4] = 0.25*i\n",
    "    end\n",
    "end\n",
    "b_15 = zeros(80,1)\n",
    "for i = 1:80\n",
    "    b_15[i] = pi\n",
    "end"
   ]
  },
  {
   "cell_type": "code",
   "execution_count": 127,
   "metadata": {
    "collapsed": false
   },
   "outputs": [
    {
     "name": "stdout",
     "output_type": "stream",
     "text": [
      "1\t"
     ]
    },
    {
     "data": {
      "text/plain": [
       "80x1 Array{Float64,2}:\n",
       " 1.53874  \n",
       " 0.731422 \n",
       " 0.107971 \n",
       " 0.173285 \n",
       " 0.0405586\n",
       " 0.0852502\n",
       " 0.16645  \n",
       " 0.121982 \n",
       " 0.101253 \n",
       " 0.0904597\n",
       " 0.0720317\n",
       " 0.070266 \n",
       " 0.0687583\n",
       " ⋮        \n",
       " 0.0129717\n",
       " 0.0127866\n",
       " 0.0127033\n",
       " 0.0125272\n",
       " 0.012377 \n",
       " 0.0122101\n",
       " 0.0112904\n",
       " 0.0111414\n",
       " 0.0121734\n",
       " 0.0120177\n",
       " 0.0154291\n",
       " 0.0152381"
      ]
     },
     "execution_count": 127,
     "metadata": {},
     "output_type": "execute_result"
    },
    {
     "name": "stdout",
     "output_type": "stream",
     "text": [
      "1.5707963267948966\n",
      "2\t0.49928883244552064\n",
      "3\t0.21573330962424286\n",
      "4\t0.13580071609269906\n",
      "5\t0.08927768748178311\n",
      "6\t0.05738343260429862\n",
      "7\t0.03956042258643813\n",
      "8\t0.027304895862305986\n",
      "9\t0.019013610337710943\n",
      "10\t0.013354587126020737\n",
      "11\t0.009432115988693784\n",
      "12\t0.006738333732502405\n",
      "13\t0.004817905298950667\n",
      "14\t0.003448958147223069\n",
      "15\t0.0024818149592938515\n",
      "16\t0.0017963314611503245\n",
      "17\t0.001300812439306992\n",
      "18\t0.0009424946643308008\n",
      "19\t0.000683323389126772\n",
      "20\t0.0004982848643239057\n",
      "21\t0.0003637541075812642\n",
      "22\t0.0002656164153766738\n",
      "23\t0.00019401764465539623\n",
      "24\t0.00014176979919040128\n",
      "25\t0.00010392978668904984\n",
      "26\t7.630210753155342e-5\n",
      "27\t5.602709918651333e-5\n",
      "28\t4.114700333039678e-5\n",
      "29\t3.0225052185944845e-5\n",
      "30\t2.2207134839594134e-5\n",
      "31\t1.636493584597498e-5\n",
      "32\t1.206391119972644e-5\n",
      "33\t8.894144361740186e-6\n"
     ]
    }
   ],
   "source": [
    "# 7.3.15 Jacobi\n",
    "TOL = 1e-5\n",
    "Nmax = 100\n",
    "x0 = zeros(80,1)\n",
    "jacobi(A_15, b_15, x0, TOL, Nmax)"
   ]
  },
  {
   "cell_type": "code",
   "execution_count": null,
   "metadata": {
    "collapsed": false
   },
   "outputs": [],
   "source": [
    "# 7.3.15 Gauss-Seidel\n",
    "TOL = 1e-5\n",
    "Nmax = 100\n",
    "x0 = zeros(80,1)\n",
    "GS(A_15, b_15, x0, TOL, Nmax)"
   ]
  },
  {
   "cell_type": "code",
   "execution_count": null,
   "metadata": {
    "collapsed": false
   },
   "outputs": [],
   "source": [
    "# 7.3.16b\n",
    "n = 100\n",
    "A = eye(n)\n",
    "for i = 1:n\n",
    "    if i != 1\n",
    "        A[i,i-1] = -1/2\n",
    "    end\n",
    "    if i != n\n",
    "        A[i, i+1] = -1/2\n",
    "    end\n",
    "end\n",
    "A\n",
    "\n",
    "b = zeros(n,1)\n",
    "b[1] = 1/2"
   ]
  },
  {
   "cell_type": "code",
   "execution_count": null,
   "metadata": {
    "collapsed": false,
    "scrolled": false
   },
   "outputs": [],
   "source": [
    "# Gauss-Sidel\n",
    "x0 = zeros(n,1)\n",
    "TOL = 1e-8\n",
    "Nmax = 20000\n",
    "GS(A, b, x0, TOL, Nmax)"
   ]
  },
  {
   "cell_type": "code",
   "execution_count": null,
   "metadata": {
    "collapsed": false
   },
   "outputs": [],
   "source": [
    "# LDLt\n",
    "L, d = LDLt([A b])\n",
    "D = zeros(n,n)\n",
    "for i = 1:n\n",
    "    D[i,i] = d[i]\n",
    "end\n",
    "y = L\\b\n",
    "z = D\\y\n",
    "x = transpose(L)\\z\n",
    "println(x)"
   ]
  },
  {
   "cell_type": "code",
   "execution_count": null,
   "metadata": {
    "collapsed": false
   },
   "outputs": [],
   "source": [
    "# Tridiagonal LU decomposition\n",
    "L, U = tridiagLU([A b])\n",
    "y = L\\b\n",
    "x = U\\y\n",
    "println(x)"
   ]
  },
  {
   "cell_type": "code",
   "execution_count": null,
   "metadata": {
    "collapsed": true
   },
   "outputs": [],
   "source": []
  }
 ],
 "metadata": {
  "kernelspec": {
   "display_name": "Julia 0.4.3",
   "language": "julia",
   "name": "julia-0.4"
  },
  "language_info": {
   "file_extension": ".jl",
   "mimetype": "application/julia",
   "name": "julia",
   "version": "0.4.3"
  }
 },
 "nbformat": 4,
 "nbformat_minor": 0
}
