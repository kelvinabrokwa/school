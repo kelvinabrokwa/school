{
 "cells": [
  {
   "cell_type": "markdown",
   "metadata": {},
   "source": [
    "#Broyden's Method"
   ]
  },
  {
   "cell_type": "markdown",
   "metadata": {},
   "source": [
    "* Given $x_0$\n",
    "* Compute $B^{-1}$, where $B = JF(x_0)$\n",
    "* $x = x0 - B^{-1} F(x_0)$\n",
    "* for $n \\geq 1$\n",
    "   * Compute $v := B^{-1} (F(x) - F(x_0))$\n",
    "   * Compute $s = x - x0$\n",
    "   * Update $B^{-1}_{n+1} = B^{-1}_n + \\frac{(s-v)s^T B^{-1}_n}{s^T v}$\n",
    "   * Compute $x = x - B^{-1}_{n+1} F(x)$"
   ]
  },
  {
   "cell_type": "code",
   "execution_count": null,
   "metadata": {
    "collapsed": false
   },
   "outputs": [],
   "source": [
    "function broyden(F, JF, x, tol)\n",
    "    k = 1\n",
    "    Nmax = 1000\n",
    "    xp = zeros(size(x))\n",
    "    s = zeros(size(x))\n",
    "    xp[:] = x[:]\n",
    "    iB = inv(JF(x))\n",
    "    x = x - iB * F(x)\n",
    "    while norm(F(x)) > tol && k < Nmax\n",
    "        v = iB * (F(x) - F(xp))\n",
    "        s[:] = x[:] - xp[:]\n",
    "        iB = iB + (s - v) * s' * iB / dot(s,v)\n",
    "        xp[:] = x[:]\n",
    "        x = x - iB * F(x)\n",
    "        k = k + 1\n",
    "    end\n",
    "    return x\n",
    "end"
   ]
  },
  {
   "cell_type": "markdown",
   "metadata": {},
   "source": [
    "Test problem:\n",
    "$$\n",
    "\\begin{cases}\n",
    "3x_1 - \\cos(x_2 x_3) - 0.5 &= 0 \\\\\n",
    "x_1^2 - 81(x_2 + 0.1)^2 + \\sin(x_3) + 1.06 &= 0 \\\\\n",
    "e^{-x_1 x_2} + 20x_3 + (10\\pi -3 )/3 & = 0\n",
    "\\end{cases},\n",
    "$$\n",
    "with the initial guess $x^0 = [0.1,\\; 0.1,\\; -0.1]^T$.  \n",
    "\n",
    "The Jacobian matrix $J(x)$ for this system is \n",
    "$$\n",
    "J(x_1, x_2, x_3) =\n",
    "\\begin{bmatrix}\n",
    "3 & x_3 \\sin(x_2 x_3) & x_2 \\sin(x_2 x_3) \\\\\n",
    "2x_1 & -162(x_2 + 0.1) & \\cos(x_3) \\\\\n",
    "-x_2 e^{-x_1 x_2} & -x_1 e^{-x_1 x_2} & 20\n",
    "\\end{bmatrix}\n",
    "$$"
   ]
  },
  {
   "cell_type": "code",
   "execution_count": null,
   "metadata": {
    "collapsed": false
   },
   "outputs": [],
   "source": [
    "function F(x)\n",
    "    return [ 3*x[1] - cos(x[2]*x[3]) - 1/2; x[1]*x[1] - 81*(x[2]+0.1)^2 + sin(x[3])+1.06; \n",
    "        exp(-x[1]*x[2]) + 20*x[3] + (10*pi-3)/3 ]\n",
    "end\n",
    "\n",
    "function DF(x)\n",
    "    mat = [ 3 x[3]*sin(x[2]*x[3]) x[2]*sin(x[2]*x[3]); \n",
    "        2*x[1] -162*(x[2]+0.1) cos(x[3]);\n",
    "        -x[2]*exp(-x[1]*x[2]) -x[1]*exp(-x[1]*x[2]) 20];\n",
    "    return mat\n",
    "end"
   ]
  },
  {
   "cell_type": "code",
   "execution_count": null,
   "metadata": {
    "collapsed": false
   },
   "outputs": [],
   "source": [
    "broyden(F, DF, [1.1;0.1;-0.1], 1e-12)\n",
    "#[1;1] * [1 1]"
   ]
  },
  {
   "cell_type": "markdown",
   "metadata": {},
   "source": [
    "#Bisection Method"
   ]
  },
  {
   "cell_type": "markdown",
   "metadata": {},
   "source": [
    "The bisection is used for the root-finding problem, i.e. find $x$ so that $f(x) = 0$, where $f$ is a continuous function.  The main concept behind this method is the  **Intermediate Value Theorem**, which states that if $f(a)f(b) < 0$, then there exists $c \\in (a,b)$ such that $f(c) = 0$."
   ]
  },
  {
   "cell_type": "markdown",
   "metadata": {},
   "source": [
    "* p = $\\frac{a+b}{2}$.\n",
    "    * if $f(p) = 0$, $p$ is the root\n",
    "    * if $f(a)f(p) < 0$, that means the root is in $[a,p]$, and hence, set $b = p$\n",
    "    * if $f(b)f(p) < 0$, that means the root is in $[p,b]$, and hence, set $a = p$\n",
    "    * repeat"
   ]
  },
  {
   "cell_type": "code",
   "execution_count": 62,
   "metadata": {
    "collapsed": false
   },
   "outputs": [
    {
     "data": {
      "text/plain": [
       "bisection (generic function with 1 method)"
      ]
     },
     "execution_count": 62,
     "metadata": {},
     "output_type": "execute_result"
    }
   ],
   "source": [
    "function bisection(f, a, b, tol, Nmax)\n",
    "    fa = f(a)\n",
    "    i = 1\n",
    "    while i < Nmax\n",
    "        p = a + (b - a)/2\n",
    "        fp = f(p)\n",
    "        if (abs(fp)) < tol\n",
    "            return p\n",
    "        end\n",
    "        if fa * fp > 0\n",
    "            a = p\n",
    "            fa = fp\n",
    "        else\n",
    "            b = p\n",
    "        end\n",
    "        i = i + 1\n",
    "        #println(i, '\\t', p, '\\t', abs(fp))\n",
    "    end\n",
    "end"
   ]
  },
  {
   "cell_type": "code",
   "execution_count": 59,
   "metadata": {
    "collapsed": false
   },
   "outputs": [
    {
     "name": "stdout",
     "output_type": "stream",
     "text": [
      "2\t0.75\t0.4375\n",
      "3\t1.125\t0.265625\n",
      "4\t0.9375\t0.12109375\n",
      "5\t1.03125\t0.0634765625\n",
      "6\t0.984375\t0.031005859375\n",
      "7\t1.0078125\t0.01568603515625\n",
      "8\t0.99609375\t0.0077972412109375\n",
      "9\t1.001953125\t0.003910064697265625\n",
      "10\t0.9990234375\t0.0019521713256835938\n"
     ]
    }
   ],
   "source": [
    "bisection(x->x^2-1, 0, 1.5, 1e-5, 10)"
   ]
  },
  {
   "cell_type": "markdown",
   "metadata": {},
   "source": [
    "# Gradient Descent Method"
   ]
  },
  {
   "cell_type": "code",
   "execution_count": null,
   "metadata": {
    "collapsed": false
   },
   "outputs": [],
   "source": [
    "function GradDesConst(F, JF, x, tol)\n",
    "    gradG = x -> 2 * JF(x)' * F(x)\n",
    "    xp = zeros(size(x))\n",
    "    k = 1\n",
    "    Nmax = 2000\n",
    "    alpha = 1e-4\n",
    "    while norm(F(x)) > tol && k < Nmax\n",
    "        xp[:] = x[:]\n",
    "        x = x - alpha * gradG(x)\n",
    "        k = k + 1\n",
    "        println(k, '\\t', norm(F(x)))\n",
    "    end\n",
    "    return x\n",
    "end"
   ]
  },
  {
   "cell_type": "code",
   "execution_count": null,
   "metadata": {
    "collapsed": false
   },
   "outputs": [],
   "source": [
    "GradDesConst(F, DF, [1.1;0.1;-0.1], 1e-5)"
   ]
  },
  {
   "cell_type": "code",
   "execution_count": 60,
   "metadata": {
    "collapsed": false
   },
   "outputs": [
    {
     "data": {
      "text/plain": [
       "GradDesBi (generic function with 1 method)"
      ]
     },
     "execution_count": 60,
     "metadata": {},
     "output_type": "execute_result"
    }
   ],
   "source": [
    "function GradDesBi(F, JF, x, tol, bisection)\n",
    "    gradG = x -> 2 * JF(x)' * F(x)\n",
    "    h = (alpha, x, d) -> dot(gradG(x-alpha*d), d)\n",
    "    xp = zeros(size(x))\n",
    "    k = 1\n",
    "    Nmax = 2000\n",
    "    alpha = 1e-4\n",
    "    while norm(F(x)) > tol && k < Nmax\n",
    "        xp[:] = x[:]\n",
    "        alpha = bisection(a -> h(a, x, gradG(x)), 0, 1.5, 1e-5, 1000)\n",
    "        x = x - alpha * gradG(x)\n",
    "        k = k + 1\n",
    "        println(k, '\\t', norm(F(x)))\n",
    "    end\n",
    "    return x\n",
    "end"
   ]
  },
  {
   "cell_type": "code",
   "execution_count": 63,
   "metadata": {
    "collapsed": false
   },
   "outputs": [
    {
     "name": "stdout",
     "output_type": "stream",
     "text": [
      "2\t1.8118948270755966\n",
      "3\t1.7408778349117393\n",
      "4\t1.5987769196164405\n",
      "5\t0.7789083375999117\n",
      "6\t0.6616792761440902\n",
      "7\t0.5642524892963374\n",
      "8\t0.47172340957830017\n",
      "9\t0.39606307395972584\n",
      "10\t0.3436397898201964\n",
      "11\t0.29871136815575\n",
      "12\t0.27635339386022606\n",
      "13\t0.2558005377216454\n",
      "14\t0.23820089648773812\n",
      "15\t0.22183407275613587\n",
      "16\t0.20675275784899672\n",
      "17\t0.1927009303583694\n",
      "18\t0.17962009471450127\n",
      "19\t0.16742857591596483\n",
      "20\t0.15606799256069862\n",
      "21\t0.14547946410605853\n",
      "22\t0.1356108090811642\n",
      "23\t0.12641244034166071\n",
      "24\t0.11783905346842238\n",
      "25\t0.10984782557335954\n",
      "26\t0.10239938188487195\n",
      "27\t0.09545649313041868\n",
      "28\t0.0889851341920356\n",
      "29\t0.08295273049811659\n",
      "30\t0.07732983800761349\n",
      "31\t0.07208848258761262\n",
      "32\t0.067202656118126\n",
      "33\t0.06264816652749253\n",
      "34\t0.05840269858180582\n",
      "35\t0.05444540758223863\n",
      "36\t0.05075623155111957\n",
      "37\t0.04731718071810144\n",
      "38\t0.04411136536585193\n",
      "39\t0.041122672816247964\n",
      "40\t0.03833684819127723\n",
      "41\t0.03574000934537644\n",
      "42\t0.033319047616563825\n",
      "43\t0.03106268224906487\n",
      "44\t0.028959422404435137\n",
      "45\t0.026998896977964842\n",
      "46\t0.025171459195077902\n",
      "47\t0.02346799281507022\n",
      "48\t0.02188003937483907\n",
      "49\t0.02039993578072028\n",
      "50\t0.019018991773217045\n",
      "51\t0.017731047061989736\n",
      "52\t0.016530403526198056\n",
      "53\t0.015411311311871902\n",
      "54\t0.014368861312324621\n",
      "55\t0.01339794388678366\n",
      "56\t0.012492433562512622\n",
      "57\t0.011647599731928901\n",
      "58\t0.010858892685454017\n",
      "59\t0.010123735739795598\n",
      "60\t0.009438955666181083\n",
      "61\t0.008799235708862574\n",
      "62\t0.008201415222578359\n",
      "63\t0.007644716786993658\n",
      "64\t0.007126131000428012\n",
      "65\t0.006644544243378723\n",
      "66\t0.006196741440533231\n",
      "67\t"
     ]
    },
    {
     "data": {
      "text/plain": [
       "3-element Array{Float64,1}:\n",
       "  0.498171\n",
       " -0.199608\n",
       " -0.528827"
      ]
     },
     "execution_count": 63,
     "metadata": {},
     "output_type": "execute_result"
    },
    {
     "name": "stdout",
     "output_type": "stream",
     "text": [
      "0.005780205820467287\n",
      "68\t0.005388551238402588\n",
      "69\t0.00502396804377682\n",
      "70\t0.004685771254280579\n",
      "71\t0.004370435603028331\n",
      "72\t0.004074662901620629\n",
      "73\t0.003801914705352559\n",
      "74\t0.0035487574880814516\n",
      "75\t0.003307345981881306\n",
      "76\t0.0030809945493300286\n",
      "77\t0.002867183156561127\n",
      "78\t0.0026747805494640228\n",
      "79\t0.0024942119452363324\n",
      "80\t0.0023223457666698543\n",
      "81\t0.0021697447804938175\n",
      "82\t0.0020287557370296454\n",
      "83\t0.0018874875596943267\n",
      "84\t0.0017486649979308014\n",
      "85\t0.001619119172649471\n",
      "86\t0.0015072935946616921\n",
      "87\t0.0014084889254475498\n",
      "88\t0.0013167176005765883\n",
      "89\t0.001225297830021891\n",
      "90\t0.0011507546626820355\n",
      "91\t0.0010658720623060712\n",
      "92\t0.0009733752019669373\n",
      "93\t0.0008746682449998273\n",
      "94\t0.0007615891311178948\n",
      "95\t0.0006735433276614561\n",
      "96\t0.0005975473352864104\n",
      "97\t0.0005188786657964742\n",
      "98\t0.00028900527784583743\n",
      "99\t8.020854365433383e-5\n"
     ]
    }
   ],
   "source": [
    "x0 = GradDesBi(F, DF, [1.1;0.1;-0.1], 1e-4, bisection)"
   ]
  },
  {
   "cell_type": "code",
   "execution_count": null,
   "metadata": {
    "collapsed": false
   },
   "outputs": [],
   "source": [
    "broyden(F, DF, x0, 1e-12)"
   ]
  },
  {
   "cell_type": "code",
   "execution_count": null,
   "metadata": {
    "collapsed": true
   },
   "outputs": [],
   "source": []
  }
 ],
 "metadata": {
  "kernelspec": {
   "display_name": "Julia 0.4.3",
   "language": "julia",
   "name": "julia-0.4"
  },
  "language_info": {
   "file_extension": ".jl",
   "mimetype": "application/julia",
   "name": "julia",
   "version": "0.4.3"
  }
 },
 "nbformat": 4,
 "nbformat_minor": 0
}
