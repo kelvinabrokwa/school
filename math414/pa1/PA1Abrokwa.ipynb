{
 "cells": [
  {
   "cell_type": "markdown",
   "metadata": {},
   "source": [
    "> #Note:\n",
    "### 0. Rename this file to PA1yourLastName, e.g. PA1Chung, and work directly on it.\n",
    "### 1. Due on 11:59 PM on Monday 3/14.\n",
    "### 2. You may NOT use the backslash operator in Julia to solve the linear system, (A\\b).  \n",
    "### 3. You are encouraged to use codes from Lab.  \n",
    "### 4. Indivisual work.  Copying in any form is a violation of the Honor code.\n",
    "### 5. Present your answers and results in the TEXT enviornment and in complete sentences."
   ]
  },
  {
   "cell_type": "markdown",
   "metadata": {},
   "source": [
    "#Problem 1 (50 pts) \n",
    "In class, we go over how to formulate linear boundary value problems as linear system problems, and you may find the full discussion in Section 11.3.  In this problem, you need to implement ```LinearBVPsolver```. <br>\n",
    "1a. Test your solver for Example 1 on page 688, and problem #2 in on page 689. <br>\n",
    "1b. Do problem #8 in Section 11.3 on page 690."
   ]
  },
  {
   "cell_type": "code",
   "execution_count": 42,
   "metadata": {
    "collapsed": false
   },
   "outputs": [
    {
     "data": {
      "text/plain": [
       "LinearBVPsolver (generic function with 1 method)"
      ]
     },
     "execution_count": 42,
     "metadata": {},
     "output_type": "execute_result"
    }
   ],
   "source": [
    "#\n",
    "# @param a <number> endpoint\n",
    "# @param b <number> endpoint\n",
    "# @param alpha <number> boundary condition\n",
    "# @param beta <number> boundary condition\n",
    "# @param p <function>\n",
    "# @param q <function>\n",
    "# @param r <function>\n",
    "# @param h <function>\n",
    "# @param N <number>\n",
    "#\n",
    "function LinearBVPsolver(a, b, alpha, beta, p, q, r, h, N)\n",
    "    _a = zeros(N,1)\n",
    "    _b = zeros(N,1)\n",
    "    _c = zeros(N,1)\n",
    "    _d = zeros(N,1)\n",
    "    \n",
    "    # step 1\n",
    "    h = (b-a) / (N+1)\n",
    "    x = a + h\n",
    "    _a[1] = 2 + h^2 * q(x)\n",
    "    _b[1] = -1 + (h/2) * p(x)\n",
    "    _d[1] = -(h^2 * r(x)) + (1 + (h/2) * p(x)) * alpha\n",
    "    \n",
    "    # step 2\n",
    "    for i = 2:N-1\n",
    "        x = a + i*h\n",
    "        _a[i] = 2 + h^2 * q(x)\n",
    "        _b[i] = -1 + (h/2) * p(x)\n",
    "        _c[i] = -1 - (h/2) * p(x)\n",
    "        _d[i] = -(h^2) * r(x)\n",
    "    end\n",
    "    \n",
    "    # step 3\n",
    "    x = b - h\n",
    "    _a[N] = 2 + h^2 * q(x)\n",
    "    _c[N] = -1 - (h/2) * p(x)\n",
    "    _d[N] = -(h^2) * r(x) + (1 - (h/2) * p(x)) * beta\n",
    "    \n",
    "    # Tridiagonal solver\n",
    "    l = zeros(N,1)\n",
    "    u = zeros(N,1)\n",
    "    z = zeros(N,1)\n",
    "    w = zeros(N,1)\n",
    "    \n",
    "    # step 4\n",
    "    l[1] = _a[1]\n",
    "    u[1] = _b[1]/_a[1]\n",
    "    z[1] = _d[1]/l[1]\n",
    "    \n",
    "    # step 5\n",
    "    for i = 2:N-1\n",
    "        l[i] = _a[i] - _c[i]*u[i-1]\n",
    "        u[i] = _b[i]/l[i]\n",
    "        z[i] = (_d[i] - _c[i]*z[i-1]) / l[i]\n",
    "    end\n",
    "    \n",
    "    # step 6\n",
    "    l[N] = _a[N] - _c[N]*u[N-1]\n",
    "    z[N] = (_d[N] - _c[N]*z[N-1]) / l[N]\n",
    "    \n",
    "    # step 7\n",
    "    for i = N-1:-1:1\n",
    "        w[i] = z[i] - u[i]*w[i+1]\n",
    "    end\n",
    "    \n",
    "    # step 8\n",
    "    for i = 0:N+1\n",
    "        x = a + i*h\n",
    "    end\n",
    "    \n",
    "    return x\n",
    "end\n"
   ]
  },
  {
   "cell_type": "code",
   "execution_count": 46,
   "metadata": {
    "collapsed": false
   },
   "outputs": [
    {
     "name": "stdout",
     "output_type": "stream",
     "text": [
      "2.0\n"
     ]
    }
   ],
   "source": [
    "# 1a - example 1\n",
    "a = 1\n",
    "b = 2\n",
    "alpha = 1\n",
    "beta = 2\n",
    "p = x -> -2/x\n",
    "q = x -> 2/x^2\n",
    "r = x -> sin(log(x))/x^2\n",
    "h = 0.1\n",
    "N = 9\n",
    "println(LinearBVPsolver(a, b, alpha, beta, p, q, r, h, N))"
   ]
  },
  {
   "cell_type": "code",
   "execution_count": 45,
   "metadata": {
    "collapsed": false
   },
   "outputs": [
    {
     "name": "stdout",
     "output_type": "stream",
     "text": [
      "1.5707963267948966\n",
      "1.5707963267948966\n"
     ]
    }
   ],
   "source": [
    "# 1a - #2\n",
    "a = 0\n",
    "b = pi/2\n",
    "alpha = -0.3\n",
    "beta = -0.1\n",
    "p = x -> 1\n",
    "q = x -> 2\n",
    "r = x -> sin(x)\n",
    "\n",
    "# a\n",
    "h = pi/4\n",
    "N = 9\n",
    "println(LinearBVPsolver(a, b, alpha, beta, p, q, r, h, N))\n",
    "\n",
    "# b\n",
    "h = pi/8\n",
    "N = 9\n",
    "println(LinearBVPsolver(a, b, alpha, beta, p, q, r, h, N))"
   ]
  },
  {
   "cell_type": "code",
   "execution_count": 63,
   "metadata": {
    "collapsed": false
   },
   "outputs": [
    {
     "ename": "LoadError",
     "evalue": "LoadError: UndefVarError: L not defined\nwhile loading In[63], in expression starting on line 19",
     "output_type": "error",
     "traceback": [
      "LoadError: UndefVarError: L not defined\nwhile loading In[63], in expression starting on line 19",
      "",
      " in anonymous at In[63]:16",
      " in LinearBVPsolver at In[42]:23"
     ]
    }
   ],
   "source": [
    "# 1b - page 690, #8\n",
    "\n",
    "# problem params\n",
    "S = 100 # 100lbs/in\n",
    "Q = 200 # 200lbs/in^2\n",
    "D = 8.8e7# 8.8 * 10^7\n",
    "l = 50\n",
    "\n",
    "# function arguments\n",
    "a = 0\n",
    "b = 50\n",
    "alpha = 0\n",
    "beta = 0\n",
    "p = x -> 0\n",
    "q = x -> S/D\n",
    "r = x -> (Q/2*D)*x^2 - (Q*L/2*D)*x\n",
    "h = 1\n",
    "N = 50\n",
    "println(LinearBVPsolver(a, b, alpha, beta, p, q, r, h, N))"
   ]
  },
  {
   "cell_type": "markdown",
   "metadata": {},
   "source": [
    "#Problem 2 (50 pts)\n",
    "CG method only works for SPD matrices. The biconjugate gradient stabilized method (BiCGSTAB) is designed for general matrices (see the original paper http://epubs.siam.org/doi/abs/10.1137/0913035 for details if interested). In this problem, you are going to implement BiCGSTAB.  "
   ]
  },
  {
   "cell_type": "markdown",
   "metadata": {},
   "source": [
    "To solve a linear system Ax = b, BiCGSTAB starts with an initial guess $x_0$ and proceeds as follows:\n",
    "* $r_0 = b − Ax_0$\n",
    "* Choose an arbitrary vector $\\hat{r}_0$ such that $(\\hat{r}_0, r_0) \\ne 0$, e.g., $\\hat{r}_0 = r_0$.\n",
    "* $\\rho_0 = \\alpha = \\omega_0 = 1$\n",
    "* $v_0 = p_0 = 0$\n",
    "* For i = 1, 2, 3, …\n",
    "  * $\\rho_i = (\\hat{r}_0, r_{i−1})$\n",
    "  * $\\beta = (\\rho_i/\\rho_{i−1})(\\alpha/\\omega_{i−1})$\n",
    "  * $p_i = r_{i−1} + \\beta(p_{i−1} − \\omega_{i−1}v_{i−1})$\n",
    "  * $v_i = Ap_i$\n",
    "  * $\\alpha = \\rho_i/(\\hat{r}_0, v_i)$\n",
    "  * $s = r_{i−1} − \\alpha v_i$\n",
    "  * if $\\|s\\|_{\\infty}$ sufficiently small, then set $x_i = x_{i−1} + \\alpha p_i$ and quit\n",
    "  * $t = As$\n",
    "  * $\\omega_i = (t, s)/(t, t)$\n",
    "  * $x_i = x_{i−1} + \\alpha p_i + \\omega_i s$\n",
    "  * $r_i = s − \\omega_i t$\n",
    "  \n",
    ">  $(u, v)$ means dot product of vector u and v. The algorithm is from https://en.wikipedia.org/wiki/Biconjugate_gradient_stabilized_method\n"
   ]
  },
  {
   "cell_type": "markdown",
   "metadata": {},
   "source": [
    "Do the following: <br>\n",
    "2a. Implement BiCGSTAB and test it for #4ab in Section 6.1 on page 368. <br>\n",
    "2b. Use BiCGSTAB with TOL=1e-8 to solve the system $Ax = b$, where $A$ is defined as \n",
    "<img src=\"PA1Prob2Mat.png\">\n",
    "and $b=(1, 0, 0, ..., 0)$, and $n=101$ (the code for creating this matrix is given).   <br>\n",
    "2c. Use SOR with TOL=1e-8 and w=1.9 to solve the same system. Compare number of iterations required in 2b and 2c.  What do you observe?\n",
    "\n",
    "> Note that the matrix is NOT tridiagonal, nor SPD."
   ]
  },
  {
   "cell_type": "code",
   "execution_count": 61,
   "metadata": {
    "collapsed": false
   },
   "outputs": [
    {
     "data": {
      "text/plain": [
       "BiCGSTAB (generic function with 1 method)"
      ]
     },
     "execution_count": 61,
     "metadata": {},
     "output_type": "execute_result"
    }
   ],
   "source": [
    "function BiCGSTAB(A, b, x, TOL)\n",
    "    n, n1 = size(A)\n",
    "    r = b - A*x\n",
    "    r_hat = r\n",
    "    rho = alpha = omega = 1\n",
    "    v = p = 0\n",
    "    _r = zeros(n)\n",
    "    for i=1:n\n",
    "        _rho = rho\n",
    "        rho = dot(r_hat, r)\n",
    "        beta = (rho/_rho) * (alpha/omega)\n",
    "        _r[1:n] = r[1:n]\n",
    "        p = _r + beta * (p - omega * v)\n",
    "        v = A * p\n",
    "        alpha = rho / dot(r_hat, v)\n",
    "        s = _r - alpha*v\n",
    "        _x = x\n",
    "        if norm(s, Inf) < TOL\n",
    "            x = x + a*p\n",
    "            return x\n",
    "        end\n",
    "        t = A*s\n",
    "        omega = dot(t,s) / dot(t,t)\n",
    "        x = x + a*p + omega*s\n",
    "        r = s - omega*t\n",
    "    end\n",
    "    return x\n",
    "end"
   ]
  },
  {
   "cell_type": "code",
   "execution_count": 48,
   "metadata": {
    "collapsed": false
   },
   "outputs": [
    {
     "data": {
      "text/plain": [
       "genTriDiag (generic function with 1 method)"
      ]
     },
     "execution_count": 48,
     "metadata": {},
     "output_type": "execute_result"
    }
   ],
   "source": [
    "function genTriDiag(n, l, d, r)\n",
    "    #generate a tridiagonal matrix of size n by n with entries l, d, r.\n",
    "    T = zeros(n,n)\n",
    "    for i = 1:n\n",
    "        T[i,i] = d\n",
    "        if i+1 <= n\n",
    "            T[i, i+1] = r\n",
    "        end\n",
    "        if i-1 >= 1\n",
    "            T[i, i-1] = l\n",
    "        end\n",
    "    end\n",
    "    return T\n",
    "end"
   ]
  },
  {
   "cell_type": "code",
   "execution_count": 62,
   "metadata": {
    "collapsed": false
   },
   "outputs": [
    {
     "data": {
      "text/plain": [
       "101-element Array{Float64,1}:\n",
       "    -1.13087 \n",
       "    -4.31125 \n",
       "    -6.83335 \n",
       "    -9.95346 \n",
       "    -9.87865 \n",
       "   -36.4638  \n",
       "    12.1961  \n",
       "     3.2896  \n",
       "    13.4126  \n",
       "    -4.92378 \n",
       "    -6.95528 \n",
       "    -0.315984\n",
       "    34.5113  \n",
       "     ⋮       \n",
       "  6425.95    \n",
       "  7655.38    \n",
       "  9121.44    \n",
       " 10889.4     \n",
       " 13100.9     \n",
       " 15800.2     \n",
       " 19132.4     \n",
       " 23037.1     \n",
       " 27775.7     \n",
       " 33516.6     \n",
       " 40488.0     \n",
       " 48966.5     "
      ]
     },
     "execution_count": 62,
     "metadata": {},
     "output_type": "execute_result"
    }
   ],
   "source": [
    "A = zeros(101,101)\n",
    "A[1:100,1:100] = genTriDiag(100, 1, -2, 1)\n",
    "A[100, 101] = 1\n",
    "A[101, 1] = 4\n",
    "A[101, 2] = -1.0\n",
    "g = 0.1\n",
    "A[101, 99] = g\n",
    "A[101,100] = -4*g\n",
    "A[101,101] = 3*g\n",
    "b = zeros(101)\n",
    "b[1] = 1\n",
    "BiCGSTAB(A,b,zeros(101), 1e-8)"
   ]
  }
 ],
 "metadata": {
  "kernelspec": {
   "display_name": "Julia 0.4.3",
   "language": "julia",
   "name": "julia-0.4"
  },
  "language_info": {
   "file_extension": ".jl",
   "mimetype": "application/julia",
   "name": "julia",
   "version": "0.4.3"
  }
 },
 "nbformat": 4,
 "nbformat_minor": 0
}
