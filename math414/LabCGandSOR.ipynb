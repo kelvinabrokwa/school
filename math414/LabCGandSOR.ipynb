{
 "cells": [
  {
   "cell_type": "markdown",
   "metadata": {},
   "source": [
    "#1 Successive Over-Relaxation (SOR) method"
   ]
  },
  {
   "cell_type": "markdown",
   "metadata": {},
   "source": [
    "$$x^{(k)} = (1-\\omega)x_i^{(k-1)} + \\frac{\\omega}{a_{ii}} \\big[ \\sum_{j=1}^{i-1} (-a_{ij}x^{(k)}_{j}) + \\sum_{j=i+1}^{n} (-a_{ij}x^{(k-1)}_{j}) + b_i \\big].$$"
   ]
  },
  {
   "cell_type": "markdown",
   "metadata": {},
   "source": [
    "> Note that when $\\omega = 1$, it becomes GS method.\n",
    "\n",
    "\n",
    "##Task 1.1:  Implement SOR by modifying GS."
   ]
  },
  {
   "cell_type": "code",
   "execution_count": 66,
   "metadata": {
    "collapsed": false
   },
   "outputs": [
    {
     "data": {
      "text/plain": [
       "SOR (generic function with 1 method)"
      ]
     },
     "execution_count": 66,
     "metadata": {},
     "output_type": "execute_result"
    }
   ],
   "source": [
    "function SOR(A, b, x0, w, TOL, Nmax)\n",
    "    n, n1 = size(A)\n",
    "    x = zeros(n,1)\n",
    "    for k = 1:Nmax\n",
    "        for i = 1:n\n",
    "            temp1 = 0\n",
    "            for j = 1:i-1\n",
    "                temp1 = temp1 + A[i,j] * x[j]\n",
    "            end\n",
    "            \n",
    "            temp2 = 0\n",
    "            for j = i+1:n\n",
    "                temp2 = temp2 + A[i,j] * x0[j]\n",
    "            end\n",
    "            \n",
    "            x[i] = (1 - w)*x0[i] + (w/A[i,i])*((-temp1) - temp2 + b[i])\n",
    "        end\n",
    "        res = norm(x - x0, Inf) # make sure calculating inf norm\n",
    "        if res < TOL\n",
    "            println(\"iterations: \", k)\n",
    "            return x\n",
    "        end\n",
    "        x0[1:n] = x[1:n]\n",
    "    end\n",
    "    println(\"Reach the maximum iterations! Solution might be wrong\")\n",
    "end"
   ]
  },
  {
   "cell_type": "markdown",
   "metadata": {},
   "source": [
    "##Task1.2: Test it on the following example.\n",
    "$$\n",
    "\\begin{bmatrix}\n",
    "4 & 3 & 0 \\\\\n",
    "3 & 4 & -1 \\\\\n",
    "0 & -1 & 4\n",
    "\\end{bmatrix}\n",
    "\\begin{bmatrix}\n",
    "x_1 \\\\\n",
    "x_2 \\\\\n",
    "x_3\n",
    "\\end{bmatrix}\n",
    "=\n",
    "\\begin{bmatrix}\n",
    "24\\\\\n",
    "30\\\\\n",
    "-24\n",
    "\\end{bmatrix},\n",
    "$$ where the exact solution is $(3, 4, -5).$  Use $(1,1,1)$ as an initial iterate.  Run it with $w=$ 0.1, 1.25, 1.5, 2.1.  What do you observe? "
   ]
  },
  {
   "cell_type": "code",
   "execution_count": 67,
   "metadata": {
    "collapsed": false
   },
   "outputs": [
    {
     "name": "stdout",
     "output_type": "stream",
     "text": [
      "iterations: 12"
     ]
    },
    {
     "data": {
      "text/plain": [
       "3x1 Array{Float64,2}:\n",
       "  3.0\n",
       "  4.0\n",
       " -5.0"
      ]
     },
     "execution_count": 67,
     "metadata": {},
     "output_type": "execute_result"
    },
    {
     "name": "stdout",
     "output_type": "stream",
     "text": [
      "\n"
     ]
    }
   ],
   "source": [
    "A = [\n",
    "    4.0 3 0;\n",
    "    3 4 -1;\n",
    "    0 -1 4\n",
    "]\n",
    "b = [24.0; 30; -24]\n",
    "x0 = [0.0; 0; 0]\n",
    "w = 1.25\n",
    "TOL = 1e-5\n",
    "Nmax = 100\n",
    "SOR(A, b, x0, w, TOL, Nmax)"
   ]
  },
  {
   "cell_type": "markdown",
   "metadata": {},
   "source": [
    "##Task 1.3: Redo Section 7.3 #15 from HW3 by SOR method.  Can you find $\\omega$ so that SOR is faster than GS?"
   ]
  },
  {
   "cell_type": "markdown",
   "metadata": {},
   "source": [
    "fastest when w = 1.25"
   ]
  },
  {
   "cell_type": "markdown",
   "metadata": {},
   "source": [
    "#2 Conjugate Gradient (CG) Method\n",
    "CG is to solve $Ax = b$ for $x$, and $A$ needs to be SPD."
   ]
  },
  {
   "cell_type": "markdown",
   "metadata": {},
   "source": [
    "* $r_0 = b - Ax_0$\n",
    "* $p_1 = r_0$\n",
    "* Do k = 1, ..., n\n",
    "  * $\\displaystyle \\alpha_k = \\frac{r_{k-1}^T r_{k-1}}{p_k^T Ap_k}$\n",
    "  * $\\displaystyle x_k = x_{k-1} + \\alpha_k p_k$\n",
    "  * $\\displaystyle r_k = r_{k-1} - \\alpha_k Ap_k$\n",
    "  * If $r_k$ is small, then return $x_k$\n",
    "  * $\\displaystyle \\beta_k = \\frac{r_{k}^T r_{k}}{r_{k-1}^T r_{k-1}}$\n",
    "  * $\\displaystyle p_k = r_k + \\beta_k p_k$"
   ]
  },
  {
   "cell_type": "code",
   "execution_count": 68,
   "metadata": {
    "collapsed": false
   },
   "outputs": [
    {
     "data": {
      "text/plain": [
       "CG (generic function with 1 method)"
      ]
     },
     "execution_count": 68,
     "metadata": {},
     "output_type": "execute_result"
    }
   ],
   "source": [
    "function CG(A, b, x, TOL)\n",
    "    r = b[:] - A[:,:]*x[:]\n",
    "    p = zeros(size(r))\n",
    "    p[:] = r[:]\n",
    "    rsold = dot(r,r)\n",
    "    for i = 1:length(b)\n",
    "        Ap = A[:,:] * p[:]\n",
    "        alpha = rsold / dot(p, Ap)\n",
    "        x = x[:] + alpha * p[:]\n",
    "        r = r - alpha * Ap\n",
    "        rsnew = dot(r,r)\n",
    "        if sqrt(rsnew) < TOL\n",
    "            println(\"iterations: \", i)\n",
    "            return x\n",
    "        end\n",
    "        p = r + (rsnew/rsold)*p[:]\n",
    "        rsold = rsnew\n",
    "    end\n",
    "    println(\"iterations:\", i)\n",
    "    return x\n",
    "end"
   ]
  },
  {
   "cell_type": "markdown",
   "metadata": {},
   "source": [
    "##Task 2.1: Test it on the example as in Task 1.2.  Compare the number of iterations it takes to converge."
   ]
  },
  {
   "cell_type": "code",
   "execution_count": 69,
   "metadata": {
    "collapsed": false
   },
   "outputs": [
    {
     "name": "stdout",
     "output_type": "stream",
     "text": [
      "iterations: 3"
     ]
    },
    {
     "data": {
      "text/plain": [
       "3-element Array{Float64,1}:\n",
       "  3.0\n",
       "  4.0\n",
       " -5.0"
      ]
     },
     "execution_count": 69,
     "metadata": {},
     "output_type": "execute_result"
    },
    {
     "name": "stdout",
     "output_type": "stream",
     "text": [
      "\n"
     ]
    }
   ],
   "source": [
    "A = [\n",
    "    4.0 3 0;\n",
    "    3 4 -1;\n",
    "    0 -1 4\n",
    "]\n",
    "b = [24.0; 30; -24]\n",
    "x0 = [0.0; 0; 0]\n",
    "TOL = 1e-8\n",
    "CG(A, b, x0, TOL)"
   ]
  },
  {
   "cell_type": "markdown",
   "metadata": {},
   "source": [
    "##Task 2.2: Redo Section 7.3 #16a from HW3 with CG.  How many iterations  do CG method take to converge?"
   ]
  },
  {
   "cell_type": "code",
   "execution_count": 70,
   "metadata": {
    "collapsed": false
   },
   "outputs": [
    {
     "data": {
      "text/plain": [
       "genTriDiag (generic function with 1 method)"
      ]
     },
     "execution_count": 70,
     "metadata": {},
     "output_type": "execute_result"
    }
   ],
   "source": [
    "function genTriDiag(n, l, d, r)\n",
    "    #generate a tridiagonal matrix of size n by n with entries l, d, r.\n",
    "    T = zeros(n,n)\n",
    "    for i = 1:n\n",
    "        T[i,i] = d\n",
    "        if i+1 <= n\n",
    "            T[i, i+1] = r\n",
    "        end\n",
    "        if i-1 >= 1\n",
    "            T[i, i-1] = l\n",
    "        end\n",
    "    end\n",
    "    return T\n",
    "end"
   ]
  },
  {
   "cell_type": "code",
   "execution_count": 71,
   "metadata": {
    "collapsed": false
   },
   "outputs": [
    {
     "name": "stdout",
     "output_type": "stream",
     "text": [
      "iterations: 100"
     ]
    },
    {
     "data": {
      "text/plain": [
       "100-element Array{Float64,1}:\n",
       " 0.990099  \n",
       " 0.980198  \n",
       " 0.970297  \n",
       " 0.960396  \n",
       " 0.950495  \n",
       " 0.940594  \n",
       " 0.930693  \n",
       " 0.920792  \n",
       " 0.910891  \n",
       " 0.90099   \n",
       " 0.891089  \n",
       " 0.881188  \n",
       " 0.871287  \n",
       " ⋮         \n",
       " 0.118812  \n",
       " 0.108911  \n",
       " 0.0990099 \n",
       " 0.0891089 \n",
       " 0.0792079 \n",
       " 0.0693069 \n",
       " 0.0594059 \n",
       " 0.049505  \n",
       " 0.039604  \n",
       " 0.029703  \n",
       " 0.019802  \n",
       " 0.00990099"
      ]
     },
     "execution_count": 71,
     "metadata": {},
     "output_type": "execute_result"
    },
    {
     "name": "stdout",
     "output_type": "stream",
     "text": [
      "\n"
     ]
    }
   ],
   "source": [
    "n = 100\n",
    "A = genTriDiag(n, -0.5, 1, -0.5)\n",
    "b = zeros(n,1)\n",
    "b[1] = 0.5\n",
    "x0 = zeros(n,1)\n",
    "CG(A, b, x0, 1e-8)\n"
   ]
  },
  {
   "cell_type": "markdown",
   "metadata": {},
   "source": [
    "##Task 2.3(Optional): Implement the preconditioned CG (PCG) method as in the following link.\n",
    "https://en.wikipedia.org/wiki/Conjugate_gradient_method#The_preconditioned_conjugate_gradient_method"
   ]
  },
  {
   "cell_type": "code",
   "execution_count": null,
   "metadata": {
    "collapsed": true
   },
   "outputs": [],
   "source": []
  }
 ],
 "metadata": {
  "kernelspec": {
   "display_name": "Julia 0.4.3",
   "language": "julia",
   "name": "julia-0.4"
  },
  "language_info": {
   "file_extension": ".jl",
   "mimetype": "application/julia",
   "name": "julia",
   "version": "0.4.3"
  }
 },
 "nbformat": 4,
 "nbformat_minor": 0
}
